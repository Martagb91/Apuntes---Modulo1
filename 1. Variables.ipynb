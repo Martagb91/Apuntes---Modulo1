{
 "cells": [
  {
   "cell_type": "code",
   "execution_count": null,
   "metadata": {},
   "outputs": [],
   "source": []
  },
  {
   "cell_type": "markdown",
   "metadata": {},
   "source": [
    "# **VARIABLES**"
   ]
  },
  {
   "cell_type": "markdown",
   "metadata": {},
   "source": [
    "## INDICE\n",
    "\n",
    "- 0. Introducción\n",
    "- 1. Funciones\n",
    "- 2. Cadenas de texto o String\n",
    "- 3. Indexing Y Slicing // Concatenación\n",
    "- 4. Función input()\n",
    "- 5. Booleanos\n",
    "  - 5.1 True o False\n",
    "  - 5.2 Operadores de comparación "
   ]
  },
  {
   "cell_type": "markdown",
   "metadata": {},
   "source": [
    "# 0. INTRODUCCIÓN"
   ]
  },
  {
   "cell_type": "markdown",
   "metadata": {},
   "source": [
    "# Título grande\n",
    "## Título mediano\n",
    "### Título pequeño\n",
    "\n",
    "_tema_ --> Cursiva\n",
    "**negrita**"
   ]
  },
  {
   "cell_type": "code",
   "execution_count": null,
   "metadata": {},
   "outputs": [],
   "source": [
    "#los asteriscos dentro del código se usan para explicar lo que estás haciendo y para que otra persona pueda entenderlo\n",
    "\"\"\"para varias líneas se usa la triple comilla\"\"\"\n",
    "\n",
    "a = 3 \n",
    "b = 150"
   ]
  },
  {
   "cell_type": "code",
   "execution_count": null,
   "metadata": {},
   "outputs": [],
   "source": [
    "#las variables no pueden\n",
    "\n",
    "Empezar por números 12edad\n",
    "Tener espacios mi edad\n",
    "Empezar por asterisco *miedad\n",
    "\n",
    "#Las variables correctas pueden ser\n",
    "edad\n",
    "mi_edad\n",
    "numero_de_pasajeros (sin accentos)\n",
    "numerodepasajeros"
   ]
  },
  {
   "cell_type": "markdown",
   "metadata": {},
   "source": [
    "# 1. Funciones"
   ]
  },
  {
   "cell_type": "markdown",
   "metadata": {},
   "source": [
    "- '+' --> suma (sin las comillas)\n",
    "- '-' --> resta (sin las comillas)\n",
    "- '*' --> multiplica (sin las comillas)\n",
    "- '/' --> divide (sin las comillas)\n",
    "- //   --> da la división sin el resto, es decir, se queda solo con la parte entera\n",
    "- %    --> nos proporciona el resto (_ejemplo 20%2 = 0_)\n",
    "- **   --> número elevado a x (_ejemplo 2 elevado a 3 >> 2**3)\n",
    "- pow()  --> número elevado a x (_ejemplo pow(2,3) >> 2 elevado a 3_)\n",
    "- divmod ()\n",
    "- round () --> redondeo (_ejemplo round(2.546738,2) >> al poner el número \"2.546732\" y después de la , un 2 te lo va a redondear a 2.54_)\n",
    "- abd()  --> te lo pasa a números absolutos\n",
    "- max() --> max(2,3,4,5,6,7,8) >> te proporcionará el número MÁXIMO entre esos números. \n",
    "- min()  --> min(2,3,4,5,6,7,8) >> te proporcionará el número MÍNIMO entre esos números. También se puede utilizar  print(min(peras,uvas))  --> te dará el valor mínimo de esas variables\n",
    "- sorted()\n",
    "- sum(()) --> suma una lista\n",
    "- print()  --> lo añadimos para asegurarnos que muestre el resultado, que se ejecute.  "
   ]
  },
  {
   "cell_type": "markdown",
   "metadata": {},
   "source": [
    "**EJEMPLO DE CLASE**"
   ]
  },
  {
   "cell_type": "code",
   "execution_count": 3,
   "metadata": {},
   "outputs": [],
   "source": [
    "patatas = 30\n",
    "maria = 50\n",
    "kilos = 2.5"
   ]
  },
  {
   "cell_type": "code",
   "execution_count": 4,
   "metadata": {},
   "outputs": [],
   "source": [
    "peras = 30\n",
    "uvas = 50"
   ]
  },
  {
   "cell_type": "code",
   "execution_count": 5,
   "metadata": {},
   "outputs": [
    {
     "data": {
      "text/plain": [
       "80"
      ]
     },
     "execution_count": 5,
     "metadata": {},
     "output_type": "execute_result"
    }
   ],
   "source": [
    "peras + uvas #suma"
   ]
  },
  {
   "cell_type": "code",
   "execution_count": 6,
   "metadata": {},
   "outputs": [],
   "source": [
    "#aquí estaría sobreescribiendo el código y cambiando el valor inicial que daba a peras = 30 y/o uvas = 50\n",
    "peras = 10\n",
    "uvas = 5"
   ]
  },
  {
   "cell_type": "code",
   "execution_count": 7,
   "metadata": {},
   "outputs": [
    {
     "name": "stdout",
     "output_type": "stream",
     "text": [
      "15\n"
     ]
    }
   ],
   "source": [
    "#se puede sumar directamente, pero se suele utilizar la función print\n",
    "\n",
    "print (uvas + peras)"
   ]
  },
  {
   "cell_type": "code",
   "execution_count": 8,
   "metadata": {},
   "outputs": [
    {
     "name": "stdout",
     "output_type": "stream",
     "text": [
      "5\n"
     ]
    }
   ],
   "source": [
    "print(min(peras,uvas)) #te da el valor mínimo"
   ]
  },
  {
   "cell_type": "code",
   "execution_count": null,
   "metadata": {},
   "outputs": [],
   "source": [
    "fruta_menor = min(peras,uvas)\n",
    "#aquí no hace falta añadir el print porque estamos dando un valor a una variable. En el caso que añadiésemos el print daría error "
   ]
  },
  {
   "cell_type": "markdown",
   "metadata": {},
   "source": [
    "### EXPLICACIÓN"
   ]
  },
  {
   "cell_type": "code",
   "execution_count": null,
   "metadata": {},
   "outputs": [],
   "source": [
    "#como es *texto* hay que poner el nombre, en este caso Julia, entre comillas \"Julia\" porque si no no lo entenderá o dará error\n",
    "\n",
    "nombre = \"Julia\"\n",
    "\n",
    "#si necesitas decir SI o NO, hay que usar TRUE o FALSE, respectivamente\n",
    "\n",
    "clienta = True\n"
   ]
  },
  {
   "cell_type": "markdown",
   "metadata": {},
   "source": [
    "### EJEMPLOS CLASE"
   ]
  },
  {
   "cell_type": "code",
   "execution_count": null,
   "metadata": {},
   "outputs": [],
   "source": [
    "nombre = \"Julia\"\n",
    "edad = 40\n",
    "altura = 1.70\n",
    "clienta = False"
   ]
  },
  {
   "cell_type": "code",
   "execution_count": null,
   "metadata": {},
   "outputs": [
    {
     "name": "stdout",
     "output_type": "stream",
     "text": [
      "hola, Julia, como tienes 40 y mides 1.7, te ofrecemos esta oferta.\n"
     ]
    }
   ],
   "source": [
    "#EJECUTAR VARIABLES\n",
    "\n",
    "#Hay que añadir la f antes para que sepa que estás añadiendo variables y que tiene que leerlas\n",
    "\n",
    "print(f\"hola, {nombre}, como tienes {edad} y mides {altura}, te ofrecemos esta oferta.\")"
   ]
  },
  {
   "cell_type": "markdown",
   "metadata": {},
   "source": [
    "## 2. CADENAS DE TEXTO O STRING"
   ]
  },
  {
   "cell_type": "code",
   "execution_count": 2,
   "metadata": {},
   "outputs": [
    {
     "ename": "SyntaxError",
     "evalue": "invalid syntax (245004351.py, line 1)",
     "output_type": "error",
     "traceback": [
      "\u001b[1;36m  Cell \u001b[1;32mIn[2], line 1\u001b[1;36m\u001b[0m\n\u001b[1;33m    - texto.upper()  --> ejemplo nombre.upper()  --> te pondrá en nombre en mayúscula\u001b[0m\n\u001b[1;37m                      ^\u001b[0m\n\u001b[1;31mSyntaxError\u001b[0m\u001b[1;31m:\u001b[0m invalid syntax\n"
     ]
    }
   ],
   "source": [
    "- texto.upper()  --> ejemplo nombre.upper()  --> te pondrá en nombre en mayúscula\n",
    "- texto.lower()  --> ejemplo nombre.lower()  --> te pondrá en nombre en minúscula\n",
    "- texto.title() --> sirve para poner la primera de cada palabra en mayus\n",
    "- texto.capitalize()  --> cambiar las mínusculas por mayus y viceversa\n",
    "- texto.swapcase()\n",
    "- texto.strip() --> quita los espacios de una frase\n",
    "- texto.split() --> separa las palabras de una frase\n",
    "- texto.replace() --> sustituye palabras Ejemplo \"me encanta pyton\"  -->  lema.replace(\"pyton\", \"comer\") te sustituye pyton por comer --> el ejecutarlo la frase final es \"me encanta comer\"\n",
    "- len() --> dice cuanto mide el texto --> Ejemplo abajo\n",
    "- texto.find()\n",
    "- texto.count()\n",
    "\n",
    "\n",
    "(!) todas las funciones que empiezan por \".\" la variable irá antes de la funcion \"ejemplo\" nombre.upper() // si la función es directamente, la variable irá entre los paréntesis \"ejemplo\" len(nombre)  (!)\n"
   ]
  },
  {
   "cell_type": "markdown",
   "metadata": {},
   "source": [
    "### EJEMPLOS"
   ]
  },
  {
   "cell_type": "code",
   "execution_count": 6,
   "metadata": {},
   "outputs": [],
   "source": [
    "texto = \"Hola, me llamo María\""
   ]
  },
  {
   "cell_type": "code",
   "execution_count": 8,
   "metadata": {},
   "outputs": [
    {
     "name": "stdout",
     "output_type": "stream",
     "text": [
      "Hola, Me Llamo María\n",
      "hOLA, ME LLAMO mARÍA\n",
      "HOLA, ME LLAMO MARÍA\n"
     ]
    }
   ],
   "source": [
    "print(texto.title())\n",
    "print(texto.swapcase())\n",
    "print(texto.upper())"
   ]
  },
  {
   "cell_type": "code",
   "execution_count": 31,
   "metadata": {},
   "outputs": [],
   "source": [
    "frase = \" hola que tal \""
   ]
  },
  {
   "cell_type": "code",
   "execution_count": 33,
   "metadata": {},
   "outputs": [
    {
     "data": {
      "text/plain": [
       "'hola que tal'"
      ]
     },
     "execution_count": 33,
     "metadata": {},
     "output_type": "execute_result"
    }
   ],
   "source": [
    "#quita los espacios delante y detrás#\n",
    "\n",
    "frase.strip()"
   ]
  },
  {
   "cell_type": "code",
   "execution_count": 35,
   "metadata": {},
   "outputs": [
    {
     "data": {
      "text/plain": [
       "['hola', 'que', 'tal']"
      ]
     },
     "execution_count": 35,
     "metadata": {},
     "output_type": "execute_result"
    }
   ],
   "source": [
    "#separa las palabras de una frase# \n",
    "frase.split()"
   ]
  },
  {
   "cell_type": "code",
   "execution_count": 36,
   "metadata": {},
   "outputs": [],
   "source": [
    "frase2 = \"Hola, que tal, yo bien, y tu\""
   ]
  },
  {
   "cell_type": "code",
   "execution_count": 37,
   "metadata": {},
   "outputs": [
    {
     "data": {
      "text/plain": [
       "['Hola', ' que tal', ' yo bien', ' y tu']"
      ]
     },
     "execution_count": 37,
     "metadata": {},
     "output_type": "execute_result"
    }
   ],
   "source": [
    "#para seprar teniendo en cuenta las comas#\n",
    "\n",
    "frase2.split(\",\")"
   ]
  },
  {
   "cell_type": "code",
   "execution_count": 38,
   "metadata": {},
   "outputs": [
    {
     "data": {
      "text/plain": [
       "28"
      ]
     },
     "execution_count": 38,
     "metadata": {},
     "output_type": "execute_result"
    }
   ],
   "source": [
    "len(frase2)"
   ]
  },
  {
   "cell_type": "markdown",
   "metadata": {},
   "source": [
    "# 3. Indexing Y Slicing // Concatenación\n",
    "\n",
    "start:stop:step"
   ]
  },
  {
   "cell_type": "markdown",
   "metadata": {},
   "source": [
    "### EXPLICACIÓN"
   ]
  },
  {
   "cell_type": "code",
   "execution_count": null,
   "metadata": {},
   "outputs": [],
   "source": [
    "Posición 1 [0]\n",
    "Siempre va a contar uno de menos, si quiero llegar a \"me gusta\" aunque son 7 caracteres, tengo que llegar hasta el 8 [0:8]\n",
    "Si quiero que salte carácteres, por ejemplo una si una no, se tiene que añadir el \"step\" [0:8:3]"
   ]
  },
  {
   "cell_type": "code",
   "execution_count": 40,
   "metadata": {},
   "outputs": [
    {
     "data": {
      "text/plain": [
       "'Me g'"
      ]
     },
     "execution_count": 40,
     "metadata": {},
     "output_type": "execute_result"
    }
   ],
   "source": [
    "\"Me gusta el chocolate\" [0:4]"
   ]
  },
  {
   "cell_type": "code",
   "execution_count": 41,
   "metadata": {},
   "outputs": [
    {
     "data": {
      "text/plain": [
       "'Me gusta'"
      ]
     },
     "execution_count": 41,
     "metadata": {},
     "output_type": "execute_result"
    }
   ],
   "source": [
    "\"Me gusta el chocolate\" [0:8]"
   ]
  },
  {
   "cell_type": "code",
   "execution_count": 42,
   "metadata": {},
   "outputs": [
    {
     "data": {
      "text/plain": [
       "'m ut'"
      ]
     },
     "execution_count": 42,
     "metadata": {},
     "output_type": "execute_result"
    }
   ],
   "source": [
    "\"me gusta el chocolate\" [0:8:2]"
   ]
  },
  {
   "cell_type": "markdown",
   "metadata": {},
   "source": [
    "# 4. Función input()"
   ]
  },
  {
   "cell_type": "code",
   "execution_count": 44,
   "metadata": {},
   "outputs": [],
   "source": [
    "#sirve para que otra persona añada esa información porque yo no la tengo, quiero preguntarlo. Por ejemplo, quiero saber la edad de la clienta pero no lo se, por lo que tengo que preguntarselo. Un cuestionario#\n",
    "\n",
    "nombre = input(\"dime tu nombre por favor\")"
   ]
  },
  {
   "cell_type": "code",
   "execution_count": 47,
   "metadata": {},
   "outputs": [
    {
     "name": "stdout",
     "output_type": "stream",
     "text": [
      "hola, Penelope\n"
     ]
    }
   ],
   "source": [
    "print(f\"hola, {nombre}\")"
   ]
  },
  {
   "cell_type": "code",
   "execution_count": 13,
   "metadata": {},
   "outputs": [
    {
     "ename": "ValueError",
     "evalue": "invalid literal for int() with base 10: 'muchos'",
     "output_type": "error",
     "traceback": [
      "\u001b[1;31m---------------------------------------------------------------------------\u001b[0m",
      "\u001b[1;31mValueError\u001b[0m                                Traceback (most recent call last)",
      "Cell \u001b[1;32mIn[13], line 2\u001b[0m\n\u001b[0;32m      1\u001b[0m \u001b[38;5;66;03m# en este caso da error, porque la pregunta espera un NUMERO y la respuesta del usuario ha sido \"muchos\" por tanto, da error. \u001b[39;00m\n\u001b[1;32m----> 2\u001b[0m edad_usuario \u001b[38;5;241m=\u001b[39m \u001b[38;5;28mint\u001b[39m(\u001b[38;5;28minput\u001b[39m(\u001b[38;5;124m\"\u001b[39m\u001b[38;5;124mqué edad tienes?\u001b[39m\u001b[38;5;124m\"\u001b[39m))\n",
      "\u001b[1;31mValueError\u001b[0m: invalid literal for int() with base 10: 'muchos'"
     ]
    }
   ],
   "source": [
    "# en este caso da error, porque la pregunta espera un NUMERO y la respuesta del usuario ha sido \"muchos\" por tanto, da error. \n",
    "edad_usuario = int(input(\"qué edad tienes?\"))"
   ]
  },
  {
   "cell_type": "code",
   "execution_count": null,
   "metadata": {},
   "outputs": [],
   "source": [
    "(!) INFORMACIÓN (!)\n",
    "                 \n",
    " #las variables númericas son enteras o int y decimales o float\n",
    "edad = 40 #esta es entera o int\n",
    "estatura = 1.75  #esta es decimal o float y lleva punto\n",
    "\n",
    "int()  --> lo que se le pase por aquí lo convierte en número ENTERO\n",
    "str() --> lo que le pase lo pasa a cadena de texto\n",
    "float()  --> pasa de números enteros a decimales. "
   ]
  },
  {
   "cell_type": "code",
   "execution_count": 48,
   "metadata": {},
   "outputs": [],
   "source": [
    "#con esta funcioón le decimos que lo que nos diga, lo entienda como número#\n",
    "edad = int(input(\"dime tu edad, por favor\"))"
   ]
  },
  {
   "cell_type": "code",
   "execution_count": null,
   "metadata": {},
   "outputs": [],
   "source": [
    "\"\"\"f-string\"\"\"\" \n",
    "\n",
    "Se usa para lo mismo que estás usando el + y el f, simplemente que suele ser más fácil, \n",
    "porque no tienes que ir abriendo y cerrando comillas tipo: (\"Yo tengo\" gatos \"y así vivo feliz\"). \n",
    "Con el f string lo pones todo del tirón: (f'Tengo {perros} y así vivo feliz\")"
   ]
  },
  {
   "cell_type": "code",
   "execution_count": 49,
   "metadata": {},
   "outputs": [
    {
     "name": "stdout",
     "output_type": "stream",
     "text": [
      "hola, Penelope, se que tienes 30 años\n"
     ]
    }
   ],
   "source": [
    "print(f\"hola, {nombre}, se que tienes {edad} años\")"
   ]
  },
  {
   "cell_type": "markdown",
   "metadata": {},
   "source": [
    "# 5. BOOLEANOS"
   ]
  },
  {
   "cell_type": "markdown",
   "metadata": {},
   "source": [
    "## 5.1 TRUE o FALSE "
   ]
  },
  {
   "cell_type": "code",
   "execution_count": 1,
   "metadata": {},
   "outputs": [
    {
     "ename": "SyntaxError",
     "evalue": "cannot assign to True (3861927932.py, line 5)",
     "output_type": "error",
     "traceback": [
      "\u001b[1;36m  Cell \u001b[1;32mIn[1], line 5\u001b[1;36m\u001b[0m\n\u001b[1;33m    True = 1\u001b[0m\n\u001b[1;37m    ^\u001b[0m\n\u001b[1;31mSyntaxError\u001b[0m\u001b[1;31m:\u001b[0m cannot assign to True\n"
     ]
    }
   ],
   "source": [
    "#los booleanos son valores de True o Flase y van sin comillas\n",
    "#los booleanos (bool) no se pueden hacer en divisiones \n",
    "mayor_de_edad = True\n",
    "\n",
    "True = 1 \n",
    "False = 0 \n",
    "\n",
    "- in = si el número está dentro de \n",
    "- not in\n",
    "- not, and, or\n",
    "- si una variable está vacia, es cero o nulo = False\n",
    "- bool() --> esta función sirve para convertir algo en booleano, es decir, que nos diga si es TRUE o FALSE"
   ]
  },
  {
   "cell_type": "code",
   "execution_count": 11,
   "metadata": {},
   "outputs": [
    {
     "name": "stdout",
     "output_type": "stream",
     "text": [
      "tengo 40 años\n"
     ]
    }
   ],
   "source": [
    "\"\"\"el [] se usa para datos el {} se usa en la funcion print() cuando queremos intervalar el dato de una variable que tengamos guardada, usamos un f-string\"\"\"\n",
    "print(f\"tengo {edad} años\")"
   ]
  },
  {
   "cell_type": "markdown",
   "metadata": {},
   "source": [
    "### EJEMPLOS"
   ]
  },
  {
   "cell_type": "code",
   "execution_count": null,
   "metadata": {},
   "outputs": [],
   "source": [
    "\n",
    "cancion = \"qué bonito está el día\""
   ]
  },
  {
   "cell_type": "code",
   "execution_count": 51,
   "metadata": {},
   "outputs": [
    {
     "data": {
      "text/plain": [
       "True"
      ]
     },
     "execution_count": 51,
     "metadata": {},
     "output_type": "execute_result"
    }
   ],
   "source": [
    "\"día\" in cancion"
   ]
  },
  {
   "cell_type": "code",
   "execution_count": 52,
   "metadata": {},
   "outputs": [
    {
     "data": {
      "text/plain": [
       "False"
      ]
     },
     "execution_count": 52,
     "metadata": {},
     "output_type": "execute_result"
    }
   ],
   "source": [
    "\"noche\" in cancion"
   ]
  },
  {
   "cell_type": "code",
   "execution_count": null,
   "metadata": {},
   "outputs": [
    {
     "ename": "ValueError",
     "evalue": "invalid literal for int() with base 10: 'muchos'",
     "output_type": "error",
     "traceback": [
      "\u001b[1;31m---------------------------------------------------------------------------\u001b[0m",
      "\u001b[1;31mValueError\u001b[0m                                Traceback (most recent call last)",
      "Cell \u001b[1;32mIn[12], line 1\u001b[0m\n\u001b[1;32m----> 1\u001b[0m edad_usuario \u001b[38;5;241m=\u001b[39m \u001b[38;5;28mint\u001b[39m(\u001b[38;5;28minput\u001b[39m(\u001b[38;5;124m\"\u001b[39m\u001b[38;5;124mqué edad tienes?\u001b[39m\u001b[38;5;124m\"\u001b[39m))\n",
      "\u001b[1;31mValueError\u001b[0m: invalid literal for int() with base 10: 'muchos'"
     ]
    }
   ],
   "source": []
  },
  {
   "cell_type": "markdown",
   "metadata": {},
   "source": [
    "## 5.2 OPERADORES DE COMPARACION"
   ]
  },
  {
   "cell_type": "code",
   "execution_count": null,
   "metadata": {},
   "outputs": [],
   "source": [
    "==  --> se usa para hacer comparaciones\n",
    "!=  --> diferente a X\n",
    "<\n",
    "<=\n",
    ">\n",
    ">="
   ]
  },
  {
   "cell_type": "code",
   "execution_count": 53,
   "metadata": {},
   "outputs": [],
   "source": [
    "numero2 = 20"
   ]
  },
  {
   "cell_type": "code",
   "execution_count": 54,
   "metadata": {},
   "outputs": [
    {
     "data": {
      "text/plain": [
       "True"
      ]
     },
     "execution_count": 54,
     "metadata": {},
     "output_type": "execute_result"
    }
   ],
   "source": [
    "20 == 20"
   ]
  },
  {
   "cell_type": "code",
   "execution_count": 55,
   "metadata": {},
   "outputs": [
    {
     "data": {
      "text/plain": [
       "False"
      ]
     },
     "execution_count": 55,
     "metadata": {},
     "output_type": "execute_result"
    }
   ],
   "source": [
    "20 != 20"
   ]
  },
  {
   "cell_type": "markdown",
   "metadata": {},
   "source": [
    "prueba prueba"
   ]
  }
 ],
 "metadata": {
  "kernelspec": {
   "display_name": "base",
   "language": "python",
   "name": "python3"
  },
  "language_info": {
   "codemirror_mode": {
    "name": "ipython",
    "version": 3
   },
   "file_extension": ".py",
   "mimetype": "text/x-python",
   "name": "python",
   "nbconvert_exporter": "python",
   "pygments_lexer": "ipython3",
   "version": "3.12.7"
  }
 },
 "nbformat": 4,
 "nbformat_minor": 2
}

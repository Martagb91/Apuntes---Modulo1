{
 "cells": [
  {
   "cell_type": "markdown",
   "metadata": {},
   "source": [
    "## **LISTAS**"
   ]
  },
  {
   "cell_type": "markdown",
   "metadata": {},
   "source": [
    "# Índice\n",
    "\n",
    "- 1. Explicación\n",
    "- 2. Funciones\n",
    "- 3. Ejemplos 1 \n",
    "- 4. Ejemplo de .copy()\n",
    "- 5. Ejemplos 2 \n"
   ]
  },
  {
   "cell_type": "markdown",
   "metadata": {},
   "source": [
    "### 1. EXPLICACIÓN\n",
    "\n",
    "Listas [] - Datos heterogéneos, acepta repetidos, elementos mutables, accesible por índice\n",
    "\n",
    "- Listas = []\n",
    "- Heteogénea [3,4,\"maría\", False]\n",
    "- Indexación y slicing --> lista1[0] --> te devuelve el primer ítem de la lista\n",
    "- Mutable: lista[1] = 4 --Z te cambia el valor\n",
    "- Unir listas\n",
    "- Converir en lista --> list()\n",
    "- in y not in \n",
    "\n",
    "\n",
    "### 2. **FUNCIONES**\n",
    "\n",
    "- .append() --> añadir nuevo elemento a la lista (solo uno) y lo añade al FINAL\n",
    "- .insert() --> añade elemento, se le indica la posición y el número. Ejemplo: lista_insert(0,1)\n",
    "- .extend() --> añadir varios elementos a la lista, entre corchetes\n",
    "- .remove()\n",
    "- .pop()\n",
    "- .reverse()\n",
    "- .sort() --> sirve ORDENAR de una lista, pero tienen que ser del mismo tipo o int o str\n",
    "- .clear() --> limpia una lista\n",
    "- .count() --> cuenta cuantas veces aparece en la lista el elemento que pongamos entre paréntedid ej: lista_cuenta.count(\"fresas\")\n",
    "- len() --> nos dice cuantos elementos tiene la lista\n",
    "- min() -->#sirve para que nos de el MINIMO de una lista, pero tienen que ser del mismo tipo o int o str\n",
    "- max() --> #sirve para que nos de el MAXIMO de una lista, pero tienen que ser del mismo tipo o int o str\n",
    "- .copy() --> sirve para crear una copia independiente del listado original. de manera que si modificas 1 u otro se realizará un cambio unicamente sobre el que se ha hecho el cambio\n",
    "- .index(): Devuelve el índice de la primera ocurrencia del elemento especificado en la lista."
   ]
  },
  {
   "cell_type": "markdown",
   "metadata": {},
   "source": [
    "### 3. EJEMPLOS 1"
   ]
  },
  {
   "cell_type": "code",
   "execution_count": 1,
   "metadata": {},
   "outputs": [],
   "source": [
    "#ejemplo \n",
    "lista1 = [\"marta\", 20, \"madrid\", True]"
   ]
  },
  {
   "cell_type": "code",
   "execution_count": 2,
   "metadata": {},
   "outputs": [
    {
     "data": {
      "text/plain": [
       "'marta'"
      ]
     },
     "execution_count": 2,
     "metadata": {},
     "output_type": "execute_result"
    }
   ],
   "source": [
    "lista1[0]"
   ]
  },
  {
   "cell_type": "code",
   "execution_count": 6,
   "metadata": {},
   "outputs": [],
   "source": [
    "numeros = 1,2,3,4,5,6"
   ]
  },
  {
   "cell_type": "code",
   "execution_count": null,
   "metadata": {},
   "outputs": [],
   "source": [
    "#para que la variable \"numeros\" se cree como variable de lista, hay que crear variable nueva, ejemplo: \n",
    "\n",
    "lista_numeros = list(numeros)"
   ]
  },
  {
   "cell_type": "code",
   "execution_count": null,
   "metadata": {},
   "outputs": [],
   "source": [
    "#en este caso 20 pasa a la posición de True\n",
    "lista1[1] = 4"
   ]
  },
  {
   "cell_type": "code",
   "execution_count": 9,
   "metadata": {},
   "outputs": [
    {
     "name": "stdout",
     "output_type": "stream",
     "text": [
      "[1, 2, 3, 4, 5, 6]\n"
     ]
    }
   ],
   "source": [
    "print(lista_numeros)"
   ]
  },
  {
   "cell_type": "code",
   "execution_count": null,
   "metadata": {},
   "outputs": [],
   "source": [
    "\"\"\".append()\"\"\" #sirve para insertar un número en la lista, lo va a añadir al final\n",
    "lista_numeros.append(50)"
   ]
  },
  {
   "cell_type": "code",
   "execution_count": 15,
   "metadata": {},
   "outputs": [
    {
     "name": "stdout",
     "output_type": "stream",
     "text": [
      "[1, 2, 3, 4, 5, 6, 15, 15, 15, 50]\n"
     ]
    }
   ],
   "source": [
    "print(lista_numeros)"
   ]
  },
  {
   "cell_type": "code",
   "execution_count": null,
   "metadata": {},
   "outputs": [],
   "source": [
    "\"\"\".insert()\"\"\" #Sirve para insertar un número en la lista. El primer número indica la posición y el segundo el número a insertar\n",
    "lista_numeros.insert(0,5)"
   ]
  },
  {
   "cell_type": "code",
   "execution_count": 19,
   "metadata": {},
   "outputs": [
    {
     "name": "stdout",
     "output_type": "stream",
     "text": [
      "[5, 1, 1, 2, 3, 4, 5, 6, 15, 15, 15, 50]\n"
     ]
    }
   ],
   "source": [
    "print(lista_numeros)"
   ]
  },
  {
   "cell_type": "code",
   "execution_count": null,
   "metadata": {},
   "outputs": [],
   "source": [
    "\"\"\".extend()\"\"\" #añade varios elementos a la lista entre corchetes\n",
    "\n",
    "datos_clientes = [\"carla\", 20, \"valencia\"]\n"
   ]
  },
  {
   "cell_type": "code",
   "execution_count": 21,
   "metadata": {},
   "outputs": [
    {
     "name": "stdout",
     "output_type": "stream",
     "text": [
      "['carla', 20, 'valencia']\n"
     ]
    }
   ],
   "source": [
    "print(datos_clientes)"
   ]
  },
  {
   "cell_type": "code",
   "execution_count": 22,
   "metadata": {},
   "outputs": [],
   "source": [
    "datos_clientes.extend([\"Calle Ramon y cajal\", 1234])"
   ]
  },
  {
   "cell_type": "code",
   "execution_count": 23,
   "metadata": {},
   "outputs": [
    {
     "name": "stdout",
     "output_type": "stream",
     "text": [
      "['carla', 20, 'valencia', 'Calle Ramon y cajal', 1234]\n"
     ]
    }
   ],
   "source": [
    "print(datos_clientes)"
   ]
  },
  {
   "cell_type": "code",
   "execution_count": 25,
   "metadata": {},
   "outputs": [
    {
     "data": {
      "text/plain": [
       "'.pop()'"
      ]
     },
     "execution_count": 25,
     "metadata": {},
     "output_type": "execute_result"
    }
   ],
   "source": [
    "#quitar elementos de la lista \n",
    "\n",
    "\"\"\".remove()\"\"\"  #quita un elemento en contcreto\n",
    "\"\"\".pop()\"\"\"  #quita el último elemento de la lista o el de una ubicación en concreto\n"
   ]
  },
  {
   "cell_type": "code",
   "execution_count": 26,
   "metadata": {},
   "outputs": [],
   "source": [
    "datos_clientes.remove(\"valencia\")"
   ]
  },
  {
   "cell_type": "code",
   "execution_count": 27,
   "metadata": {},
   "outputs": [
    {
     "name": "stdout",
     "output_type": "stream",
     "text": [
      "['carla', 20, 'Calle Ramon y cajal', 1234]\n"
     ]
    }
   ],
   "source": [
    "print(datos_clientes)"
   ]
  },
  {
   "cell_type": "code",
   "execution_count": 29,
   "metadata": {},
   "outputs": [],
   "source": [
    "datos_clientes.extend([\"calle ramon y cajal\", 1234])"
   ]
  },
  {
   "cell_type": "code",
   "execution_count": 30,
   "metadata": {},
   "outputs": [
    {
     "name": "stdout",
     "output_type": "stream",
     "text": [
      "['carla', 20, 'Calle Ramon y cajal', 1234, 'calle ramon y cajal', 1234]\n"
     ]
    }
   ],
   "source": [
    "print(datos_clientes)"
   ]
  },
  {
   "cell_type": "code",
   "execution_count": 31,
   "metadata": {},
   "outputs": [
    {
     "data": {
      "text/plain": [
       "1234"
      ]
     },
     "execution_count": 31,
     "metadata": {},
     "output_type": "execute_result"
    }
   ],
   "source": [
    "datos_clientes.pop()"
   ]
  },
  {
   "cell_type": "code",
   "execution_count": 32,
   "metadata": {},
   "outputs": [
    {
     "name": "stdout",
     "output_type": "stream",
     "text": [
      "['carla', 20, 'Calle Ramon y cajal', 1234, 'calle ramon y cajal']\n"
     ]
    }
   ],
   "source": [
    "print(datos_clientes)"
   ]
  },
  {
   "cell_type": "code",
   "execution_count": 33,
   "metadata": {},
   "outputs": [
    {
     "data": {
      "text/plain": [
       "'carla'"
      ]
     },
     "execution_count": 33,
     "metadata": {},
     "output_type": "execute_result"
    }
   ],
   "source": [
    "datos_clientes.pop(0)"
   ]
  },
  {
   "cell_type": "code",
   "execution_count": 34,
   "metadata": {},
   "outputs": [
    {
     "name": "stdout",
     "output_type": "stream",
     "text": [
      "[20, 'Calle Ramon y cajal', 1234, 'calle ramon y cajal']\n"
     ]
    }
   ],
   "source": [
    "print(datos_clientes)"
   ]
  },
  {
   "cell_type": "markdown",
   "metadata": {},
   "source": [
    "### 4. **EJEMPLO DE .copy()**"
   ]
  },
  {
   "cell_type": "code",
   "execution_count": 1,
   "metadata": {},
   "outputs": [],
   "source": [
    "temperatura = [1,2,3,4,5,6]"
   ]
  },
  {
   "cell_type": "code",
   "execution_count": 9,
   "metadata": {},
   "outputs": [],
   "source": [
    "temperatura2 = temperatura.copy() #si no pones el copy todos los cambios que se haga en uno u otro se replicarán por igual"
   ]
  },
  {
   "cell_type": "code",
   "execution_count": 3,
   "metadata": {},
   "outputs": [
    {
     "data": {
      "text/plain": [
       "[1, 2, 3, 4, 5, 6]"
      ]
     },
     "execution_count": 3,
     "metadata": {},
     "output_type": "execute_result"
    }
   ],
   "source": [
    "temperatura2"
   ]
  },
  {
   "cell_type": "code",
   "execution_count": 7,
   "metadata": {},
   "outputs": [],
   "source": [
    "temperatura2.insert(0,10) #posición, elemento a insertar"
   ]
  },
  {
   "cell_type": "code",
   "execution_count": 8,
   "metadata": {},
   "outputs": [
    {
     "name": "stdout",
     "output_type": "stream",
     "text": [
      "[1, 2, 3, 4, 5, 6]\n",
      "[10, 1, 2, 3, 4, 5, 6, 0]\n"
     ]
    }
   ],
   "source": [
    "print(temperatura)\n",
    "print(temperatura2)"
   ]
  },
  {
   "cell_type": "markdown",
   "metadata": {},
   "source": [
    "### 5. EJEMPLOS 2"
   ]
  },
  {
   "cell_type": "code",
   "execution_count": null,
   "metadata": {},
   "outputs": [],
   "source": [
    "#creamos una lista con países\n",
    "paises = [\"Suecia\", \"España\", \"Francia\"]"
   ]
  },
  {
   "cell_type": "code",
   "execution_count": null,
   "metadata": {},
   "outputs": [],
   "source": [
    "# preguntamos a un usuario un país nuevo, creando la variable \"país_nuevo\"\n",
    "pais_nuevo = input(\"dime un país nuevo\")"
   ]
  },
  {
   "cell_type": "code",
   "execution_count": 36,
   "metadata": {},
   "outputs": [
    {
     "data": {
      "text/plain": [
       "'Grecia'"
      ]
     },
     "execution_count": 36,
     "metadata": {},
     "output_type": "execute_result"
    }
   ],
   "source": [
    "pais_nuevo"
   ]
  },
  {
   "cell_type": "code",
   "execution_count": 44,
   "metadata": {},
   "outputs": [],
   "source": [
    "#añadimos la variable \"país_nuevo\" con la respuesta del usuario a nuesta lista \"paises\"\n",
    "paises.append(pais_nuevo)"
   ]
  },
  {
   "cell_type": "code",
   "execution_count": 45,
   "metadata": {},
   "outputs": [
    {
     "data": {
      "text/plain": [
       "['España', 'Grecia', 'francia', 'suecia', 'Grecia']"
      ]
     },
     "execution_count": 45,
     "metadata": {},
     "output_type": "execute_result"
    }
   ],
   "source": [
    "paises"
   ]
  },
  {
   "cell_type": "code",
   "execution_count": null,
   "metadata": {},
   "outputs": [],
   "source": [
    "#ordenamos las repsuestas\n",
    "paises.sort()"
   ]
  },
  {
   "cell_type": "code",
   "execution_count": 46,
   "metadata": {},
   "outputs": [
    {
     "data": {
      "text/plain": [
       "['España', 'Grecia', 'francia', 'suecia', 'Grecia']"
      ]
     },
     "execution_count": 46,
     "metadata": {},
     "output_type": "execute_result"
    }
   ],
   "source": [
    "paises"
   ]
  }
 ],
 "metadata": {
  "kernelspec": {
   "display_name": "base",
   "language": "python",
   "name": "python3"
  },
  "language_info": {
   "codemirror_mode": {
    "name": "ipython",
    "version": 3
   },
   "file_extension": ".py",
   "mimetype": "text/x-python",
   "name": "python",
   "nbconvert_exporter": "python",
   "pygments_lexer": "ipython3",
   "version": "3.12.7"
  }
 },
 "nbformat": 4,
 "nbformat_minor": 2
}

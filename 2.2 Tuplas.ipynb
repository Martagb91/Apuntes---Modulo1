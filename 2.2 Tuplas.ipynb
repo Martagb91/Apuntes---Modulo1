{
 "cells": [
  {
   "cell_type": "markdown",
   "metadata": {},
   "source": [
    "# **TUPLAS** \n",
    "### Datos heterogéneos que no se pueden modificar, acepta repetidos, son inmutables y accesible por índice"
   ]
  },
  {
   "cell_type": "markdown",
   "metadata": {},
   "source": [
    "### EXPLICACIÓN \n",
    "- Tuplas --> Van entre paréntisi ()\n",
    "- Heterogéneas (3,2,\"Maria\", False)\n",
    "- Indexación y Slicing\n",
    "- Inmutables, no se pueden aladir, eliminar o cambiar sus elementos (excepto si se pasa a lista)\n",
    "- Para cambiar se puede pasar a LISTA\n",
    "- Puede contener elementos MUTABLES\n",
    "- Convertir en tupla tuple()\n",
    "- in y not in \n",
    "\n",
    "### FUNCIONES \n",
    "\n",
    "(_solo funciones de consulta_)\n",
    "\n",
    "- .count()\n",
    "- .index()\n",
    "- len()\n",
    "- min()\n",
    "- max()"
   ]
  },
  {
   "cell_type": "markdown",
   "metadata": {},
   "source": [
    "### EJEMPLOS"
   ]
  },
  {
   "cell_type": "code",
   "execution_count": 3,
   "metadata": {},
   "outputs": [],
   "source": [
    "#ELEMENTOS MUTABLES\n",
    "\n",
    "tupla = (20, \"Lluvia\", \"Sevilla\", [1,2,3,4])"
   ]
  },
  {
   "cell_type": "code",
   "execution_count": 4,
   "metadata": {},
   "outputs": [],
   "source": [
    "#cambia las posiciones de la lista\n",
    "tupla[3][0] = 2"
   ]
  },
  {
   "cell_type": "code",
   "execution_count": 5,
   "metadata": {},
   "outputs": [
    {
     "data": {
      "text/plain": [
       "(20, 'Lluvia', 'Sevilla', [2, 2, 3, 4])"
      ]
     },
     "execution_count": 5,
     "metadata": {},
     "output_type": "execute_result"
    }
   ],
   "source": [
    "tupla"
   ]
  },
  {
   "cell_type": "code",
   "execution_count": 6,
   "metadata": {},
   "outputs": [],
   "source": [
    "#convertir en lista \n",
    "\n",
    "lista2 = list(tupla)"
   ]
  },
  {
   "cell_type": "code",
   "execution_count": 7,
   "metadata": {},
   "outputs": [
    {
     "data": {
      "text/plain": [
       "[20, 'Lluvia', 'Sevilla', [2, 2, 3, 4]]"
      ]
     },
     "execution_count": 7,
     "metadata": {},
     "output_type": "execute_result"
    }
   ],
   "source": [
    "lista2"
   ]
  },
  {
   "cell_type": "markdown",
   "metadata": {},
   "source": [
    "### EJEMPLO - ejercicio clase"
   ]
  },
  {
   "cell_type": "code",
   "execution_count": 8,
   "metadata": {},
   "outputs": [],
   "source": [
    "tupla_nueva = [2,4,5,True, \"Cádiz\"]"
   ]
  },
  {
   "cell_type": "code",
   "execution_count": 9,
   "metadata": {},
   "outputs": [
    {
     "data": {
      "text/plain": [
       "[2, 4, 5, True, 'Cádiz']"
      ]
     },
     "execution_count": 9,
     "metadata": {},
     "output_type": "execute_result"
    }
   ],
   "source": [
    "#en la ubicación 0 es la primera posición y el siguiente número mostrará la posición de antes. POR EJEMPLO: si quieres llegar a la primera posición y a  \"cadiz\" tendrás que poner [0,6]\n",
    "tupla_nueva[0:6]"
   ]
  },
  {
   "cell_type": "code",
   "execution_count": 10,
   "metadata": {},
   "outputs": [
    {
     "data": {
      "text/plain": [
       "False"
      ]
     },
     "execution_count": 10,
     "metadata": {},
     "output_type": "execute_result"
    }
   ],
   "source": [
    "#si quiero preguntar si María está en la tupla\n",
    "\n",
    "\"maría\" in tupla_nueva"
   ]
  },
  {
   "cell_type": "code",
   "execution_count": 11,
   "metadata": {},
   "outputs": [],
   "source": [
    "#si quiero convertir en lista la \"tupla_nueva\"\n",
    "lista3 = list(tupla_nueva)"
   ]
  },
  {
   "cell_type": "code",
   "execution_count": 12,
   "metadata": {},
   "outputs": [],
   "source": [
    "lista3.append(2456)"
   ]
  },
  {
   "cell_type": "code",
   "execution_count": 13,
   "metadata": {},
   "outputs": [
    {
     "data": {
      "text/plain": [
       "[2, 4, 5, True, 'Cádiz', 2456]"
      ]
     },
     "execution_count": 13,
     "metadata": {},
     "output_type": "execute_result"
    }
   ],
   "source": [
    "lista3"
   ]
  },
  {
   "cell_type": "code",
   "execution_count": 14,
   "metadata": {},
   "outputs": [],
   "source": [
    "#quiero convertirlo en tupla\n",
    "\n",
    "tupla_definitiva = tuple(lista3)"
   ]
  },
  {
   "cell_type": "code",
   "execution_count": 15,
   "metadata": {},
   "outputs": [
    {
     "data": {
      "text/plain": [
       "(2, 4, 5, True, 'Cádiz', 2456)"
      ]
     },
     "execution_count": 15,
     "metadata": {},
     "output_type": "execute_result"
    }
   ],
   "source": [
    "tupla_definitiva"
   ]
  }
 ],
 "metadata": {
  "kernelspec": {
   "display_name": "base",
   "language": "python",
   "name": "python3"
  },
  "language_info": {
   "codemirror_mode": {
    "name": "ipython",
    "version": 3
   },
   "file_extension": ".py",
   "mimetype": "text/x-python",
   "name": "python",
   "nbconvert_exporter": "python",
   "pygments_lexer": "ipython3",
   "version": "3.12.7"
  }
 },
 "nbformat": 4,
 "nbformat_minor": 2
}

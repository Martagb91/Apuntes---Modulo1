{
 "cells": [
  {
   "cell_type": "markdown",
   "metadata": {},
   "source": [
    "# **Diccionario**\n",
    "\n",
    "- Acepta datos repetidos (pero no la claves, solo los valores)\n",
    "- Compuesto por clave y valor y las claves son inmutables y únicas\n",
    "- Accesible por clave"
   ]
  },
  {
   "cell_type": "markdown",
   "metadata": {},
   "source": [
    "### EXPLICACIÓN \n",
    "\n",
    "- Diccionarios = {clave:valor}\n",
    "- Acepta valores repetidos\n",
    "- Claves inmutables y no se pueden repetir, pero se pueden añadir y eliminar pares de clave-valor y modificar valores\n",
    "- Valores heterogéneos\n",
    "- Accesible por clave, NO POR INDICE  --> NO se accede por diccionario[0,1] SE ACCEDE diccionario[\"colonia\"]\n",
    "- Convertir en diccionario: dict()\n",
    "- in, not in\n",
    "\n",
    "### FUNCIONES\n",
    "\n",
    "- .fromkeys(clave,valores) --> añade conjuntos de clave valor\n",
    "- len() --> si es una palabra mide caracteres, si hay varios valores, te dice el nº de valores\n",
    "- .keys() --> muestra las claves\n",
    "- .values() --> muestra todos los valotes\n",
    "- .items() --> devuelve una lista de tuplas con cada clae y valor (ejemplo abajo)\n",
    "- .update() --> sirve para añadir valor:clave al diccionatio\n",
    "- .get() --> para obtener un valor, dándole una clave, aunque también se puede acceder con diccionario[clave]\n",
    "- .pop() --> elimina un valor pasándole la clave\n",
    "- .popitem() --> elimina el [último] clave-valor agregado\n",
    "- dictnuevo = {**dict1. **dict2, **dict3} --> se crea un diccionario con todos esos diccionarios unidos"
   ]
  },
  {
   "cell_type": "code",
   "execution_count": 1,
   "metadata": {},
   "outputs": [],
   "source": [
    "\"\"\"NO SE PUEDE REPETIR NI MODIFICAR\"\"\" #clave --> \"colonia\" \n",
    "#valor --> 1\n",
    "diccionario = {\"colonia\": 1, \"papel de cocina\": 2, \"fruta\": 20}"
   ]
  },
  {
   "cell_type": "code",
   "execution_count": 2,
   "metadata": {},
   "outputs": [
    {
     "data": {
      "text/plain": [
       "20"
      ]
     },
     "execution_count": 2,
     "metadata": {},
     "output_type": "execute_result"
    }
   ],
   "source": [
    "diccionario[\"fruta\"]"
   ]
  },
  {
   "cell_type": "code",
   "execution_count": 3,
   "metadata": {},
   "outputs": [
    {
     "data": {
      "text/plain": [
       "dict_items([('colonia', 1), ('papel de cocina', 2), ('fruta', 20)])"
      ]
     },
     "execution_count": 3,
     "metadata": {},
     "output_type": "execute_result"
    }
   ],
   "source": [
    "#lo convierte a tuplas, porque mete los valores entre parentésis\n",
    "diccionario.items()"
   ]
  },
  {
   "cell_type": "code",
   "execution_count": 4,
   "metadata": {},
   "outputs": [],
   "source": [
    "#ejemplo \".fromkeys\"  (!) las claves y valores pueden ser tanto números como palabras\n",
    "\n",
    "claves = (\"manzana\", \"pera\", \"piña\")\n",
    "valores = (2,3,4)"
   ]
  },
  {
   "cell_type": "code",
   "execution_count": 5,
   "metadata": {},
   "outputs": [
    {
     "data": {
      "text/plain": [
       "{'manzana': (2, 3, 4), 'pera': (2, 3, 4), 'piña': (2, 3, 4)}"
      ]
     },
     "execution_count": 5,
     "metadata": {},
     "output_type": "execute_result"
    }
   ],
   "source": [
    "diccionario.fromkeys(claves,valores)"
   ]
  },
  {
   "cell_type": "code",
   "execution_count": 6,
   "metadata": {},
   "outputs": [
    {
     "data": {
      "text/plain": [
       "{'colonia': 1, 'papel de cocina': 2, 'fruta': 20}"
      ]
     },
     "execution_count": 6,
     "metadata": {},
     "output_type": "execute_result"
    }
   ],
   "source": [
    "diccionario"
   ]
  },
  {
   "cell_type": "code",
   "execution_count": 7,
   "metadata": {},
   "outputs": [],
   "source": [
    "diccionario.update({\"pan\":3})"
   ]
  },
  {
   "cell_type": "code",
   "execution_count": 8,
   "metadata": {},
   "outputs": [
    {
     "data": {
      "text/plain": [
       "{'colonia': 1, 'papel de cocina': 2, 'fruta': 20, 'pan': 3}"
      ]
     },
     "execution_count": 8,
     "metadata": {},
     "output_type": "execute_result"
    }
   ],
   "source": [
    "diccionario"
   ]
  },
  {
   "cell_type": "code",
   "execution_count": 9,
   "metadata": {},
   "outputs": [
    {
     "data": {
      "text/plain": [
       "1"
      ]
     },
     "execution_count": 9,
     "metadata": {},
     "output_type": "execute_result"
    }
   ],
   "source": [
    "#si quieres que te devuelva un valor\n",
    "diccionario.get(\"colonia\")"
   ]
  },
  {
   "cell_type": "markdown",
   "metadata": {},
   "source": [
    "NUEVO EJEMPLO "
   ]
  },
  {
   "cell_type": "code",
   "execution_count": 10,
   "metadata": {},
   "outputs": [],
   "source": [
    "frutas = {\"manzanas\":2, \"plátanos\":5, \"uvas\":4, \"ciruelas\":6, \"fresas\":10}"
   ]
  },
  {
   "cell_type": "code",
   "execution_count": 11,
   "metadata": {},
   "outputs": [
    {
     "data": {
      "text/plain": [
       "4"
      ]
     },
     "execution_count": 11,
     "metadata": {},
     "output_type": "execute_result"
    }
   ],
   "source": [
    "#haz que te fecuelca el valor uvas\n",
    "frutas.get(\"uvas\")\n",
    "frutas[\"uvas\"]  #este se pone entre [] porque es como si estuviésemos accediendo a una ubicación, no es una función, es una manera de acceder al índice"
   ]
  },
  {
   "cell_type": "code",
   "execution_count": 12,
   "metadata": {},
   "outputs": [
    {
     "data": {
      "text/plain": [
       "('fresas', 10)"
      ]
     },
     "execution_count": 12,
     "metadata": {},
     "output_type": "execute_result"
    }
   ],
   "source": [
    "#quitar el última clave-valor\n",
    "frutas.popitem()"
   ]
  },
  {
   "cell_type": "code",
   "execution_count": 13,
   "metadata": {},
   "outputs": [],
   "source": [
    "#añade un anueva fruta:valor --> si pones algo repetido lo sobreescribe\n",
    "\"\"\"quiero añadir un valor. IMPORTANTE, hay que añadir la clave y el valor entre {}\"\"\"\n",
    "frutas.update({\"manzana\":10})"
   ]
  },
  {
   "cell_type": "code",
   "execution_count": 14,
   "metadata": {},
   "outputs": [
    {
     "data": {
      "text/plain": [
       "dict_keys(['manzanas', 'plátanos', 'uvas', 'ciruelas', 'manzana'])"
      ]
     },
     "execution_count": 14,
     "metadata": {},
     "output_type": "execute_result"
    }
   ],
   "source": [
    "#muestra todas la sclaves\n",
    "frutas.keys()"
   ]
  },
  {
   "cell_type": "code",
   "execution_count": 15,
   "metadata": {},
   "outputs": [
    {
     "data": {
      "text/plain": [
       "dict_values([2, 5, 4, 6, 10])"
      ]
     },
     "execution_count": 15,
     "metadata": {},
     "output_type": "execute_result"
    }
   ],
   "source": [
    "#muestra los valores del diccionarios\n",
    "frutas.values()"
   ]
  },
  {
   "cell_type": "code",
   "execution_count": 16,
   "metadata": {},
   "outputs": [
    {
     "data": {
      "text/plain": [
       "5"
      ]
     },
     "execution_count": 16,
     "metadata": {},
     "output_type": "execute_result"
    }
   ],
   "source": [
    "#¿cuántos elementos hay el en diccionario?\n",
    "len(frutas)"
   ]
  },
  {
   "cell_type": "code",
   "execution_count": 17,
   "metadata": {},
   "outputs": [],
   "source": [
    "#borra todo el diccionario\n",
    "frutas.clear()"
   ]
  }
 ],
 "metadata": {
  "kernelspec": {
   "display_name": "base",
   "language": "python",
   "name": "python3"
  },
  "language_info": {
   "codemirror_mode": {
    "name": "ipython",
    "version": 3
   },
   "file_extension": ".py",
   "mimetype": "text/x-python",
   "name": "python",
   "nbconvert_exporter": "python",
   "pygments_lexer": "ipython3",
   "version": "3.12.7"
  }
 },
 "nbformat": 4,
 "nbformat_minor": 2
}

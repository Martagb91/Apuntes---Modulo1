{
 "cells": [
  {
   "cell_type": "markdown",
   "metadata": {},
   "source": [
    "# **CONJUNTOS o SETS**"
   ]
  },
  {
   "cell_type": "markdown",
   "metadata": {},
   "source": [
    "# Índice\n",
    "\n",
    "- 1. Explicación\n",
    "- 2. Funciones\n",
    "- 3. Funciones Especiales\n",
    "- 4. Ejemplos\n",
    "- 5. Ejemplos con funciones especiales"
   ]
  },
  {
   "cell_type": "markdown",
   "metadata": {},
   "source": [
    "_____________________________________"
   ]
  },
  {
   "cell_type": "markdown",
   "metadata": {},
   "source": [
    "### 1. EXPLICACIÓN\n",
    "\n",
    "- Conjunto = {}  --> Ejemplo: {\"Rocio\", True, 2}\n",
    "- Valores heterogéneos\n",
    "- No acepta valores repetidos\n",
    "- Elementos mutables en cuanto a añadir o eliminar, npero no permite listas o diccionarios\n",
    "- NO accesible por Indice, no tiene orden\n",
    "- Convertir en conjunto: set()\n",
    "- in, not in"
   ]
  },
  {
   "cell_type": "markdown",
   "metadata": {},
   "source": [
    "### 2. FUNCIONES\n",
    "\n",
    "- len() --> buscadore de elemento\n",
    "- .add() --> para añadir un elemento más. SOLO UNO\n",
    "- .update() --> para pasarle una lista de elementos\n",
    "- .copy()\n",
    "- .remove() --> elimina UN SOLO ELEMENTO y da error si no existe\n",
    "- .discard() --> igual que remove( pero no da error)\n",
    "- .pop()\n",
    "- .clear()\n",
    "\n",
    "### 3. FUNCIONES ESPECIALES\n",
    "\n",
    "- a.union(b) o a | b --> Muestra todos los elementos en una única lista SIN REPETIR los elementos\n",
    "- a.intersection(b) o a & b --> Muestra los elementos en común entre los dos conjuntos\n",
    "- a.difference(b) o a-b --> Muestra los que aparece en uno, quitando los que aparecen en el otro\n",
    "- a.symetric_difference(b) o a^b --> Muestra los que no tengan en común\n",
    "- a.issuebset(b) o a <= b --> Da (True) si todos los elementos de \"a\" están en \"B\"\n",
    "- a.issuperset(b) o a >= b --> da (True) si \"a\" contene todos los elementos de \"b\""
   ]
  },
  {
   "cell_type": "markdown",
   "metadata": {},
   "source": [
    "### 4. EJEMPLOS"
   ]
  },
  {
   "cell_type": "code",
   "execution_count": 1,
   "metadata": {},
   "outputs": [],
   "source": [
    "#no tiene orden, cada vez que se imprime te lo hace de forma aleatoria\n",
    "conjunto = {1,25,54,3,2,1}"
   ]
  },
  {
   "cell_type": "code",
   "execution_count": 2,
   "metadata": {},
   "outputs": [
    {
     "data": {
      "text/plain": [
       "{1, 2, 3, 25, 54}"
      ]
     },
     "execution_count": 2,
     "metadata": {},
     "output_type": "execute_result"
    }
   ],
   "source": [
    "conjunto"
   ]
  },
  {
   "cell_type": "code",
   "execution_count": 3,
   "metadata": {},
   "outputs": [
    {
     "data": {
      "text/plain": [
       "{1, 2, 3, 25, 54}"
      ]
     },
     "execution_count": 3,
     "metadata": {},
     "output_type": "execute_result"
    }
   ],
   "source": [
    "conjunto"
   ]
  },
  {
   "cell_type": "code",
   "execution_count": 4,
   "metadata": {},
   "outputs": [],
   "source": [
    "#añade una lista de elementos, (!) añadir los corchetes entre los valores [] también se puede hacer con {}\n",
    "conjunto.update([33,55,600])"
   ]
  },
  {
   "cell_type": "code",
   "execution_count": 5,
   "metadata": {},
   "outputs": [],
   "source": [
    "#añade un solo elemento\n",
    "conjunto.add(50)"
   ]
  },
  {
   "cell_type": "code",
   "execution_count": 6,
   "metadata": {},
   "outputs": [
    {
     "data": {
      "text/plain": [
       "{1, 2, 3, 25, 33, 50, 54, 55, 600}"
      ]
     },
     "execution_count": 6,
     "metadata": {},
     "output_type": "execute_result"
    }
   ],
   "source": [
    "conjunto"
   ]
  },
  {
   "cell_type": "code",
   "execution_count": 7,
   "metadata": {},
   "outputs": [],
   "source": [
    "#a.union(b) o a | b --> Muestra todos los elementos en una única lista SIN REPETIR los elementos\n",
    "\n",
    "\"\"\"a\"\"\" \n",
    "conjunto1 = {\"Maria\", \"antonio\", \"juan\", \"Luisa\", \"Cecilia\", \"pepa\"}\n",
    "\"\"\"b\"\"\" \n",
    "conjunto2 = {\"Marta\", \"lucia\", \"juan\", \"Luisa\", \"Rosa\", \"pepa\"}"
   ]
  },
  {
   "cell_type": "code",
   "execution_count": 8,
   "metadata": {},
   "outputs": [
    {
     "data": {
      "text/plain": [
       "{'Cecilia',\n",
       " 'Luisa',\n",
       " 'Maria',\n",
       " 'Marta',\n",
       " 'Rosa',\n",
       " 'antonio',\n",
       " 'juan',\n",
       " 'lucia',\n",
       " 'pepa'}"
      ]
     },
     "execution_count": 8,
     "metadata": {},
     "output_type": "execute_result"
    }
   ],
   "source": [
    "conjunto1.union(conjunto2)"
   ]
  },
  {
   "cell_type": "code",
   "execution_count": 9,
   "metadata": {},
   "outputs": [
    {
     "data": {
      "text/plain": [
       "{'Cecilia',\n",
       " 'Luisa',\n",
       " 'Maria',\n",
       " 'Marta',\n",
       " 'Rosa',\n",
       " 'antonio',\n",
       " 'juan',\n",
       " 'lucia',\n",
       " 'pepa'}"
      ]
     },
     "execution_count": 9,
     "metadata": {},
     "output_type": "execute_result"
    }
   ],
   "source": [
    "#haces la misma función de arriba \n",
    "conjunto1 | conjunto2"
   ]
  },
  {
   "cell_type": "code",
   "execution_count": 10,
   "metadata": {},
   "outputs": [
    {
     "data": {
      "text/plain": [
       "{'Luisa', 'juan', 'pepa'}"
      ]
     },
     "execution_count": 10,
     "metadata": {},
     "output_type": "execute_result"
    }
   ],
   "source": [
    "#elementos en común entre los dos conjuntos\n",
    "conjunto1 & conjunto2"
   ]
  },
  {
   "cell_type": "code",
   "execution_count": 11,
   "metadata": {},
   "outputs": [
    {
     "data": {
      "text/plain": [
       "{'Luisa', 'juan', 'pepa'}"
      ]
     },
     "execution_count": 11,
     "metadata": {},
     "output_type": "execute_result"
    }
   ],
   "source": [
    "conjunto1.intersection(conjunto2)"
   ]
  },
  {
   "cell_type": "code",
   "execution_count": 12,
   "metadata": {},
   "outputs": [
    {
     "data": {
      "text/plain": [
       "{'Cecilia', 'Maria', 'antonio'}"
      ]
     },
     "execution_count": 12,
     "metadata": {},
     "output_type": "execute_result"
    }
   ],
   "source": [
    "#ver la diferencia entre a y b\n",
    "conjunto1 - conjunto2"
   ]
  },
  {
   "cell_type": "code",
   "execution_count": 13,
   "metadata": {},
   "outputs": [
    {
     "data": {
      "text/plain": [
       "False"
      ]
     },
     "execution_count": 13,
     "metadata": {},
     "output_type": "execute_result"
    }
   ],
   "source": [
    "#te dice que el conjunto 2 es más pequeño que el conjunto 1\n",
    "conjunto1 <= conjunto2"
   ]
  },
  {
   "cell_type": "markdown",
   "metadata": {},
   "source": [
    "### 5. EJEMPLO CON FUNCIONES ESPECIALES\n",
    "- a.issuebset(b) o a <= b --> Da (True) si todos los elementos de \"a\" están en \"B\"\n",
    "- a.issuperset(b) o a >= b --> da (True) si \"a\" contene todos los elementos de \"b\""
   ]
  },
  {
   "cell_type": "code",
   "execution_count": 14,
   "metadata": {},
   "outputs": [],
   "source": [
    "conjunto3 = {\"juana\",\"pepa\"}\n",
    "conjunto4 = {\"juana\", \"pepa\", \"luisa\"}"
   ]
  },
  {
   "cell_type": "code",
   "execution_count": 15,
   "metadata": {},
   "outputs": [
    {
     "data": {
      "text/plain": [
       "True"
      ]
     },
     "execution_count": 15,
     "metadata": {},
     "output_type": "execute_result"
    }
   ],
   "source": [
    "#es TRUE porque conjunto 4 tiene igual o MAS de elementos iguales. En este caso, todos los valores de conjunto3 \"Juana\" & \"Pepa\" y están en conjunto4. \n",
    "#conjunto4 puede tener más valores, lo importante es que TODOS los del conjunto3 estén en el conjunto4\n",
    "conjunto3 <= conjunto4"
   ]
  },
  {
   "cell_type": "code",
   "execution_count": 16,
   "metadata": {},
   "outputs": [],
   "source": [
    "conjunto3 = {\"juana\",\"pepa\",\"PEDRO\"}\n",
    "conjunto4 = {\"juana\", \"pepa\", \"luisa\"}"
   ]
  },
  {
   "cell_type": "code",
   "execution_count": 17,
   "metadata": {},
   "outputs": [
    {
     "data": {
      "text/plain": [
       "False"
      ]
     },
     "execution_count": 17,
     "metadata": {},
     "output_type": "execute_result"
    }
   ],
   "source": [
    "#ahora es FALSE porque NO coinciden TODOS los valores de conjunto 3 (en este caso, \"PEDRO\") con el conjunto4. \n",
    "# Para que fuese TRUE, TODOS los valores de conjunto3 tiene que estar en conjunto4, pero NO hace falta que todos los valores de Conjunto3 esté en conjunto4.\n",
    "conjunto3 <= conjunto4"
   ]
  },
  {
   "cell_type": "code",
   "execution_count": 18,
   "metadata": {},
   "outputs": [],
   "source": [
    "conjunto3 = {\"juana\",\"pepa\"}\n",
    "conjunto4 = {\"pedro\", \"luisa\"}"
   ]
  },
  {
   "cell_type": "code",
   "execution_count": 19,
   "metadata": {},
   "outputs": [
    {
     "data": {
      "text/plain": [
       "False"
      ]
     },
     "execution_count": 19,
     "metadata": {},
     "output_type": "execute_result"
    }
   ],
   "source": [
    "#ahora da FALSE porque NO COINCIDE NINGUN VALOR\n",
    "conjunto3 <= conjunto4"
   ]
  },
  {
   "cell_type": "code",
   "execution_count": null,
   "metadata": {},
   "outputs": [],
   "source": []
  },
  {
   "cell_type": "code",
   "execution_count": null,
   "metadata": {},
   "outputs": [],
   "source": []
  }
 ],
 "metadata": {
  "kernelspec": {
   "display_name": "base",
   "language": "python",
   "name": "python3"
  },
  "language_info": {
   "codemirror_mode": {
    "name": "ipython",
    "version": 3
   },
   "file_extension": ".py",
   "mimetype": "text/x-python",
   "name": "python",
   "nbconvert_exporter": "python",
   "pygments_lexer": "ipython3",
   "version": "3.12.7"
  }
 },
 "nbformat": 4,
 "nbformat_minor": 2
}

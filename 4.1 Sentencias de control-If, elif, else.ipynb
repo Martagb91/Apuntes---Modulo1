{
 "cells": [
  {
   "cell_type": "markdown",
   "metadata": {},
   "source": [
    "# 4.1 ESTRUCTURAS DE CONTROL: **IF, elif (sino), ELSE**"
   ]
  },
  {
   "cell_type": "markdown",
   "metadata": {},
   "source": [
    "# Índice\n",
    "\n",
    "- 1. Explicación\n",
    "- 2. Ejemplos\n",
    "    - 2.1. Ejemplo génerico\n",
    "    - 2.2. Ejemplo if anidado\n",
    "    - 2.3. Ejemplo en Listas\n",
    "    - 2.4. Ejemplo con diccionario"
   ]
  },
  {
   "cell_type": "markdown",
   "metadata": {},
   "source": [
    "__________________________"
   ]
  },
  {
   "cell_type": "markdown",
   "metadata": {},
   "source": [
    "### 1. Explicación\n",
    "\n",
    "- Es una estructura que sirve para que el programa ejecute unas instrucciones cuando se cumplen una o varias condiciones\n",
    "\n",
    "_Ejemplo: Si voy a tu cumpleaños llevo un regalo, SINO pues te lo mando  // IF voy a tu cumplueaños, llevo un regalo ELIF te lo mando_\n",
    "\n",
    "- Se usan las **Comparaciones** y los valores **booleanos**\n",
    "- Estructura:                                                                           Ejemplo\n",
    "    If + condición: (solo se permise usarse una vez- una condición)                    If name = Marta:\n",
    "        se ejecuta este código                                                         print(\"el apellido es Gómez)\n",
    "    Elif condicion2: (puede usarse para varias condiciones)\n",
    "       se ejecuta este código\n",
    "    Else: (solo se permise usarse una vez- una condición)  \n",
    "        se ejecuta este código \n",
    "- La primera ínea de la estructura de control, tiene la expreción a evaluar, dará un true o false \n",
    "- USO: if (la primera), ELIF (si hay otra condición), else (la última que suemos)\n",
    "- Para uqe python sepa que NO HAY MAS CONDUCIONEs se usa \":\" --> : para poner fin a la condición\n",
    "- Cuando quitemos la sandría qse quita el bloqueo de las instrucciones, basta con eliminarla para terminar\n",
    "- Llamaremos:\n",
    "     - Primera línea >> Línea de condición\n",
    "     - Segunda línea >> Línea de consecuencia   --> podemos hacer lo que queramos >> un print(), .append(), una lista, un input().... \n"
   ]
  },
  {
   "cell_type": "markdown",
   "metadata": {},
   "source": [
    "### 2. EJEMPLOS"
   ]
  },
  {
   "cell_type": "markdown",
   "metadata": {},
   "source": [
    "### 2.1 Ejemplo génerico"
   ]
  },
  {
   "cell_type": "markdown",
   "metadata": {},
   "source": [
    "***EJEMPLO 1***"
   ]
  },
  {
   "cell_type": "code",
   "execution_count": 1,
   "metadata": {},
   "outputs": [
    {
     "name": "stdout",
     "output_type": "stream",
     "text": [
      "puedes pasar\n"
     ]
    }
   ],
   "source": [
    "#Si me llamo Marta Gómez puedo pasar, SINO no\n",
    "\n",
    "name = input(\"¿cómo te llamas?\")\n",
    "\n",
    "if name == \"marta gomez\":\n",
    "    print(\"puedes pasar\")"
   ]
  },
  {
   "cell_type": "code",
   "execution_count": 2,
   "metadata": {},
   "outputs": [
    {
     "data": {
      "text/plain": [
       "True"
      ]
     },
     "execution_count": 2,
     "metadata": {},
     "output_type": "execute_result"
    }
   ],
   "source": [
    "name == \"marta gomez\""
   ]
  },
  {
   "cell_type": "code",
   "execution_count": null,
   "metadata": {},
   "outputs": [
    {
     "data": {
      "text/plain": [
       "'marta gomez'"
      ]
     },
     "execution_count": 3,
     "metadata": {},
     "output_type": "execute_result"
    }
   ],
   "source": [
    "name #por la primera condición se ha guardado que name= marta gomez"
   ]
  },
  {
   "cell_type": "markdown",
   "metadata": {},
   "source": [
    "***EJEMPLO 2***"
   ]
  },
  {
   "cell_type": "code",
   "execution_count": null,
   "metadata": {},
   "outputs": [
    {
     "name": "stdout",
     "output_type": "stream",
     "text": [
      "a es menor que b\n"
     ]
    }
   ],
   "source": [
    "a = 10 \n",
    "b = 20\n",
    "\n",
    "if a<b:\n",
    "    print(\"a es menor que b\")\n",
    "elif a<b: #solo se creará esta lectura SI a NO es menor que 20\n",
    "    print(\"a es mayor que b\")\n",
    "else: #solo se llegará a esta lectura si no es menor ni mahhyor que b\n",
    "    print(\"son iguales\")"
   ]
  },
  {
   "cell_type": "code",
   "execution_count": null,
   "metadata": {},
   "outputs": [
    {
     "name": "stdout",
     "output_type": "stream",
     "text": [
      "a es mayor que b\n"
     ]
    }
   ],
   "source": [
    "a = 30 \n",
    "b = 20\n",
    "\n",
    "if a<b:\n",
    "    print(\"a es menor que b\")\n",
    "elif a>b: #solo se creará esta lectura SI a NO es menor que 20     #se pone elif para todas las condiciones\n",
    "    print(\"a es mayor que b\")\n",
    "else: #solo se llegará a esta lectura si no es menor ni mahhyor que b    #si no se cumplen las demás condiciones, entonces será esto\n",
    "    print(\"son iguales\")"
   ]
  },
  {
   "cell_type": "code",
   "execution_count": 6,
   "metadata": {},
   "outputs": [
    {
     "name": "stdout",
     "output_type": "stream",
     "text": [
      "son iguales\n"
     ]
    }
   ],
   "source": [
    "a = 20 \n",
    "b = 20\n",
    "\n",
    "if a<b:\n",
    "    print(\"a es menor que b\")\n",
    "elif a<b: #solo se creará esta lectura SI a NO es menor que 20\n",
    "    print(\"a es mayor que b\")\n",
    "else: #solo se llegará a esta lectura si no es menor ni mahhyor que b\n",
    "    print(\"son iguales\")"
   ]
  },
  {
   "cell_type": "markdown",
   "metadata": {},
   "source": [
    "***EJEMPLO 4***"
   ]
  },
  {
   "cell_type": "code",
   "execution_count": 12,
   "metadata": {},
   "outputs": [
    {
     "name": "stdout",
     "output_type": "stream",
     "text": [
      "ok\n",
      "ok\n"
     ]
    }
   ],
   "source": [
    "a = 10\n",
    "b = 20\n",
    "c = 1\n",
    "\n",
    "if a < b and a > c: #se tienen que cumplir las dos condiciones   >>  también se podría escribir  >>  b>a>c\n",
    "    print (\"ok\")\n",
    "else:\n",
    "    print(\"no\")\n",
    "\n",
    "\n",
    "\n",
    "\n",
    "if b > a > c: \n",
    "    print (\"ok\")\n",
    "else:\n",
    "    print(\"no\")"
   ]
  },
  {
   "cell_type": "markdown",
   "metadata": {},
   "source": [
    "***EJEMPLO 5***"
   ]
  },
  {
   "cell_type": "code",
   "execution_count": 13,
   "metadata": {},
   "outputs": [
    {
     "name": "stdout",
     "output_type": "stream",
     "text": [
      "no ha venido\n"
     ]
    }
   ],
   "source": [
    "nombres = [\"María\", \"juana\", \"luisa\"]\n",
    "\n",
    "if \"Marta\" in nombres: \n",
    "    print(\"Marta ha venido a la fiesta\")\n",
    "\n",
    "else:\n",
    "    print(\"no ha venido\")"
   ]
  },
  {
   "cell_type": "code",
   "execution_count": 14,
   "metadata": {},
   "outputs": [
    {
     "data": {
      "text/plain": [
       "False"
      ]
     },
     "execution_count": 14,
     "metadata": {},
     "output_type": "execute_result"
    }
   ],
   "source": [
    "\"marta\" in nombres"
   ]
  },
  {
   "cell_type": "code",
   "execution_count": null,
   "metadata": {},
   "outputs": [
    {
     "name": "stdout",
     "output_type": "stream",
     "text": [
      "no puedes pasar\n"
     ]
    }
   ],
   "source": [
    "\"\"\"REVISAR\"\"\"\n",
    "password = 123456\n",
    "\n",
    "password2 = input(\"introduce tu contraseña\")\n",
    "\n",
    "if password2 == password:\n",
    "    print(\"puedes pasar\")\n",
    "else:\n",
    "    print(\"no puedes pasar\")"
   ]
  },
  {
   "cell_type": "code",
   "execution_count": 18,
   "metadata": {},
   "outputs": [
    {
     "data": {
      "text/plain": [
       "'123456'"
      ]
     },
     "execution_count": 18,
     "metadata": {},
     "output_type": "execute_result"
    }
   ],
   "source": [
    "password2"
   ]
  },
  {
   "cell_type": "markdown",
   "metadata": {},
   "source": [
    "### 2.2. EJEMPLOS:  IF ANIDADOS"
   ]
  },
  {
   "cell_type": "markdown",
   "metadata": {},
   "source": [
    "***EJEMPLO 1***"
   ]
  },
  {
   "cell_type": "code",
   "execution_count": null,
   "metadata": {},
   "outputs": [
    {
     "name": "stdout",
     "output_type": "stream",
     "text": [
      "la talla s no tiene stock\n"
     ]
    }
   ],
   "source": [
    "#opciones de ropa de una tienda en la que estamos comprando online\n",
    "#género: Mujer, Hombre\n",
    "#tallas: S, M, L, XL\n",
    "\n",
    "#¿se podría hacer esto con input? EN ESTE CASO SOLO SE PODRÍA DAR UNA UNICA OPCION\n",
    "\n",
    "genero = \"hombre\"\n",
    "talla = \"s\"\n",
    "\n",
    "\n",
    "if genero == \"mujer\":\n",
    "        if talla == \"L\":\n",
    "                print(\"no hay stock de esta talla\")\n",
    "        elif talla in (\"s\", \"xl\"):\n",
    "                print (\"quedan pocas unidades.\")\n",
    "        elif talla == \"M\":\n",
    "                print (\"Articulo disponible\")\n",
    "        else:\n",
    "                print(\"por favor, introduzca una talla correcta( s, M, L o XL)\")\n",
    "\n",
    "elif genero == \"hombre\":\n",
    "        \n",
    "        if talla in (\"s\", \"m\", \"xl\"):\n",
    "                print(f\"la talla {talla} no tiene stock\")   # (!) IMPORTANTE >> hay que añadir la f de \"f-sting para que lo lea correctamente, si no no detectará la variable\"\n",
    "        elif talla == \"L\":\n",
    "                print (f\"quedan pocas unidades de la llama {talla} para genero {genero}.\")  #las variables en el f-string va con {}\n",
    "        else:\n",
    "                print(\"Por favor señor, introduzca una talla correcta( s, M, L o XL)\")\n",
    "else:\n",
    "        print(\"introduzca un género aceptado entre hombre o mujer\")\n",
    "\n"
   ]
  },
  {
   "cell_type": "markdown",
   "metadata": {},
   "source": [
    "***EJEMPLO 2***\n",
    "\n",
    "Si una persona es menor de edad y no tiene autorización, no puede pasar a la fiesta, si tiene autorización, puede pasar y si es maor de edad, puede pasar"
   ]
  },
  {
   "cell_type": "code",
   "execution_count": 21,
   "metadata": {},
   "outputs": [],
   "source": [
    "#primero se recoge el dato (el número que nos da con el input) ; segundo > convierte el número en un número entero con el int\n",
    "\n",
    "edad = int(input(\"¿qué edad tienes?\"))\n",
    "\n",
    "\n",
    "if edad < 18: # para que pase a autorización, tiene que ser menor de 18 años\n",
    "    autorizacion = input(\"¿tienes autorización? Escribe 'si' o 'no'\").lower() #.lower() >> lo pasa a mínusculas"
   ]
  },
  {
   "cell_type": "code",
   "execution_count": 22,
   "metadata": {},
   "outputs": [
    {
     "name": "stdout",
     "output_type": "stream",
     "text": [
      "16\n",
      "si\n"
     ]
    }
   ],
   "source": [
    "print(edad)\n",
    "print(autorizacion)"
   ]
  },
  {
   "cell_type": "code",
   "execution_count": 23,
   "metadata": {},
   "outputs": [
    {
     "name": "stdout",
     "output_type": "stream",
     "text": [
      "puedes pasar, menos mal que tienes autorización majo\n"
     ]
    }
   ],
   "source": [
    "if edad >= 18:\n",
    "    print (\"si puedes pasar\")\n",
    "elif 0 < edad < 18:\n",
    "    if autorizacion == 'si' or autorizacion == 'sí': # (!) IMPORTANTE repetir la comparación. también podríamos hacer autorización in ('si', 'sí')\n",
    "        print(\"puedes pasar, menos mal que tienes autorización majo\")\n",
    "    else:\n",
    "        print(\"Pa casa guapo\")\n",
    "\n",
    "else:\n",
    "    print(\"Introduce una edad correcta, no puede ser negativa\")"
   ]
  },
  {
   "cell_type": "markdown",
   "metadata": {},
   "source": [
    "### 2.3. EJEMPLO EN LISTAS"
   ]
  },
  {
   "cell_type": "markdown",
   "metadata": {},
   "source": [
    "En el caso de las listas, se puede preguntar si algún elemento ESTÁ o no ESTA en la lista y con ello, hacer condiciones"
   ]
  },
  {
   "cell_type": "markdown",
   "metadata": {},
   "source": [
    "***EJEMPLO 1***"
   ]
  },
  {
   "cell_type": "code",
   "execution_count": 24,
   "metadata": {},
   "outputs": [],
   "source": [
    "frutas = [\"pera\", \"manzana\", \"coco\"]"
   ]
  },
  {
   "cell_type": "code",
   "execution_count": 25,
   "metadata": {},
   "outputs": [],
   "source": [
    "fruta_nueva = input(\"Dime una fruta, porfa\")"
   ]
  },
  {
   "cell_type": "code",
   "execution_count": 26,
   "metadata": {},
   "outputs": [
    {
     "name": "stdout",
     "output_type": "stream",
     "text": [
      "genial, hemos añadido fresa a la lista\n",
      "['pera', 'manzana', 'coco', 'fresa']\n"
     ]
    }
   ],
   "source": [
    "if fruta_nueva in frutas:\n",
    "    print(\"YA la tenemos\")\n",
    "else:\n",
    "    frutas.append(fruta_nueva) #añadir de uno en uno en la lista\n",
    "    print(f\"genial, hemos añadido {fruta_nueva} a la lista\")\n",
    "    print(frutas)"
   ]
  },
  {
   "cell_type": "markdown",
   "metadata": {},
   "source": [
    "### 2.4. EJEMEPLO: CON DICCIONARIO"
   ]
  },
  {
   "cell_type": "code",
   "execution_count": null,
   "metadata": {},
   "outputs": [],
   "source": [
    "#creación del diccionario\n",
    "colores = {\n",
    "    \"rojo\": \"amor y pasion\",  #rojo = clave  # \"amor y pasión\" = valor\n",
    "    \"azul\": \"calma y tranquilidad\",\n",
    "    \"verde\": \"naturaleza y esperanza\"\n",
    "}"
   ]
  },
  {
   "cell_type": "code",
   "execution_count": 29,
   "metadata": {},
   "outputs": [],
   "source": [
    "#preguntamos el color\n",
    "\n",
    "color = input(\"elige un color, por favor:\")"
   ]
  },
  {
   "cell_type": "code",
   "execution_count": 30,
   "metadata": {},
   "outputs": [
    {
     "name": "stdout",
     "output_type": "stream",
     "text": [
      "rojo\n"
     ]
    }
   ],
   "source": [
    "print(color)"
   ]
  },
  {
   "cell_type": "code",
   "execution_count": 34,
   "metadata": {},
   "outputs": [
    {
     "name": "stdout",
     "output_type": "stream",
     "text": [
      "El significado de rojo es amor y pasion\n"
     ]
    }
   ],
   "source": [
    "if color in colores:\n",
    "    print(f\"El significado de {color} es {colores[color]}\")"
   ]
  }
 ],
 "metadata": {
  "kernelspec": {
   "display_name": "base",
   "language": "python",
   "name": "python3"
  },
  "language_info": {
   "codemirror_mode": {
    "name": "ipython",
    "version": 3
   },
   "file_extension": ".py",
   "mimetype": "text/x-python",
   "name": "python",
   "nbconvert_exporter": "python",
   "pygments_lexer": "ipython3",
   "version": "3.12.7"
  }
 },
 "nbformat": 4,
 "nbformat_minor": 2
}

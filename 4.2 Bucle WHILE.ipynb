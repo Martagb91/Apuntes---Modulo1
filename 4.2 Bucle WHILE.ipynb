{
 "cells": [
  {
   "cell_type": "markdown",
   "metadata": {},
   "source": [
    "4.2 BUCLE WHILE"
   ]
  },
  {
   "cell_type": "markdown",
   "metadata": {},
   "source": [
    "- Es un bucle que se repite hasta que la condición se cumple y si eso se cumple, pasa una y otra vez hasta que cambie\n",
    "- Estructura:\n",
    "\n",
    "        variable_control  \n",
    "\n",
    "        while condicion:\n",
    "            bloque_instrucciones\n",
    "            modifica_variable"
   ]
  },
  {
   "cell_type": "code",
   "execution_count": 4,
   "metadata": {},
   "outputs": [
    {
     "name": "stdout",
     "output_type": "stream",
     "text": [
      "Antonia: 'Estoy enfadada'\n",
      "hola\n"
     ]
    }
   ],
   "source": [
    "#Ejemplo >> mi amiga se enfada siempre que le digo \"Toñi\" >> para romper el bucle tengo que dejar de llamarla \"Toñi\"\n",
    "\n",
    "saludo = \"¡Hola, Toñi!\"\n",
    "\n",
    "while \"Toñi\" in saludo:\n",
    "    print(\"Antonia: 'Estoy enfadada'\")\n",
    "    saludo = saludo.replace(\"Toñi\", \"Antonia\")  #(!)IMPORTANTE, si no se modifica la variable original (en este caso saludo), no estaremos haceidno un cambio, además le tienes que decir qué tiene que hacer\n",
    "    print(\"hola\")"
   ]
  },
  {
   "cell_type": "code",
   "execution_count": null,
   "metadata": {},
   "outputs": [
    {
     "name": "stdout",
     "output_type": "stream",
     "text": [
      "no puedes motar en moto\n",
      "Ha pasado un año, ahora tienes 11 años\n",
      "no puedes motar en moto\n",
      "Ha pasado un año, ahora tienes 12 años\n",
      "no puedes motar en moto\n",
      "Ha pasado un año, ahora tienes 13 años\n",
      "no puedes motar en moto\n",
      "Ha pasado un año, ahora tienes 14 años\n",
      "no puedes motar en moto\n",
      "Ha pasado un año, ahora tienes 15 años\n",
      "no puedes motar en moto\n",
      "Ha pasado un año, ahora tienes 16 años\n",
      "no puedes motar en moto\n",
      "Ha pasado un año, ahora tienes 17 años\n",
      "no puedes motar en moto\n",
      "Ha pasado un año, ahora tienes 18 años\n",
      "¡YA puedes montar en moto\n"
     ]
    }
   ],
   "source": [
    "#Ejemplo 2 >>  Hasta que no cumples los 18, no podrás montar en moto\n",
    "\n",
    "\n",
    "tu_edad = 10\n",
    "\n",
    "while tu_edad < 18:\n",
    "    print(\"no puedes motar en moto\")\n",
    "    tu_edad += 1\n",
    "    print(f\"Ha pasado un año, ahora tienes {tu_edad} años\")\n",
    "\n",
    "print(\"¡YA puedes montar en moto\")  #se romperá el bucle cuando tenga 18 años"
   ]
  },
  {
   "cell_type": "code",
   "execution_count": null,
   "metadata": {},
   "outputs": [
    {
     "name": "stdout",
     "output_type": "stream",
     "text": [
      "llevas ahorrado 10\n",
      "llevas ahorrado 20\n",
      "llevas ahorrado 60\n",
      "llevas ahorrado 200\n",
      "Has ahorrado 200 euros\n"
     ]
    }
   ],
   "source": [
    "# EJEMPLO 3 >> Tengo una hucha y quiero llenarla mínimo hasta 100 euros\n",
    "\n",
    "acumulador = 0\n",
    "\n",
    "while acumulador <= 100:\n",
    "    ahorro = int(input(\"¿cuánto metes en la hucha?\"))  #te va a preguntar cuánto metes en la hucha hasta que hayas ahorrado más o igual a 100. \n",
    "    acumulador += ahorro\n",
    "    print(f\"llevas ahorrado {acumulador}\") #se va haciendo una impresión mientras NO se cumple el bucle while, lo que está dentro de la sangría\n",
    "print(f\"Has ahorrado {acumulador} euros\")  # Una vez llegado a la cantidad <=100 te dirá este print, mientras sea inferior te sigue haciendo el input"
   ]
  },
  {
   "cell_type": "markdown",
   "metadata": {},
   "source": [
    "El uso del **-= o +=**\n",
    "\n",
    "- En vez de escribir contador = contador + 1, se escribe contador += 1\n",
    "\n",
    "**Contadores**\n",
    "\n",
    "- Variabe a al que vamos sumando cuantas veces a pasado algo\n",
    "\n",
    "**Acumulador**´\n",
    "\n",
    "- Variable a la que le sumamos la cantidad de algo"
   ]
  },
  {
   "cell_type": "code",
   "execution_count": 3,
   "metadata": {},
   "outputs": [
    {
     "name": "stdout",
     "output_type": "stream",
     "text": [
      "he dicho positivo, vuelve a intentarlo\n",
      "Gracias\n"
     ]
    }
   ],
   "source": [
    "numero = int(input(\"escribe un número positivo\"))\n",
    "\n",
    "while numero <0:\n",
    "    print(\"he dicho positivo, vuelve a intentarlo\")\n",
    "    numero = int(input(\"escribe un numero positivo\")) #(!) em este caso tenemos que volver a darle la oportunidad de reintorucir un número para que no se creee bucle infinito\n",
    "print(\"Gracias\")"
   ]
  },
  {
   "cell_type": "code",
   "execution_count": null,
   "metadata": {},
   "outputs": [
    {
     "name": "stdout",
     "output_type": "stream",
     "text": [
      "correcto\n"
     ]
    }
   ],
   "source": [
    "password = \"rocio1234\"\n",
    "\n",
    "password2 = input(\"introduce tu contraseña\")\n",
    "\n",
    "while password != password2:\n",
    "    password2 = input(\"vuelve a intentarlo\") #en el caso que ponga la contraseña incorrecta, se lo tendríamos que volver a preguntar para romper el bucle\n",
    "print(\"correcto\")"
   ]
  },
  {
   "cell_type": "markdown",
   "metadata": {},
   "source": [
    "# CONTROL DE BUCLES\n",
    "\n",
    "- Break --> Rompe el bucle\n",
    "- Continue --> es para que X repetición no se haga, es decir, que una repetición concreta no se haga"
   ]
  },
  {
   "cell_type": "code",
   "execution_count": null,
   "metadata": {},
   "outputs": [
    {
     "name": "stdout",
     "output_type": "stream",
     "text": [
      "adiós\n"
     ]
    }
   ],
   "source": [
    "\"\"\"Break\"\"\" # EJEMPLO \n",
    "\n",
    "num1 = 20\n",
    "num2 = int(input(\"introduce un número\"))\n",
    "\n",
    "\n",
    "while num1 != num2: #mientras que no acierte el número ESTARá en BUCLE\n",
    "    num2 = int((input(\"adivina un número del 1 al 20. Introduce 0 para salir del juego\"))) #queremos que haya un break si pulsa 0\n",
    "    if num2 == 0:\n",
    "        print(\"adiós\")\n",
    "        break\n",
    "    elif num1 == num2:  #cuando ACIERTA se rompe el bucle, pero te lo va a hacer a la segunda\n",
    "        print(\"has acertado\")"
   ]
  },
  {
   "cell_type": "code",
   "execution_count": null,
   "metadata": {},
   "outputs": [
    {
     "name": "stdout",
     "output_type": "stream",
     "text": [
      "Ese no es un número par\n",
      "Ese no es un número par\n",
      "Ese no es un número par\n",
      "Ese no es un número par\n"
     ]
    }
   ],
   "source": [
    "\"\"\"Continue: salta una de las repeticiones del bucle\"\"\" #EJEMPLO\n",
    "\n",
    "#quiero hacer una lista de 5 numeros pares\n",
    "\n",
    "lista_pares = []\n",
    "\n",
    "while len(lista_pares) < 5:   #el bucle finalizará cuando tenga 5 números\n",
    "    num = int(input(\"dime un número\"))\n",
    "    if num % 2 != 0:\n",
    "        print(\"Ese no es un número par\")\n",
    "        continue\n",
    "    else: lista_pares.append(num)"
   ]
  },
  {
   "cell_type": "code",
   "execution_count": 9,
   "metadata": {},
   "outputs": [
    {
     "name": "stdout",
     "output_type": "stream",
     "text": [
      "[2, 4, 6, 2, 4]\n"
     ]
    }
   ],
   "source": [
    "print(lista_pares)"
   ]
  }
 ],
 "metadata": {
  "kernelspec": {
   "display_name": "base",
   "language": "python",
   "name": "python3"
  },
  "language_info": {
   "codemirror_mode": {
    "name": "ipython",
    "version": 3
   },
   "file_extension": ".py",
   "mimetype": "text/x-python",
   "name": "python",
   "nbconvert_exporter": "python",
   "pygments_lexer": "ipython3",
   "version": "3.12.7"
  }
 },
 "nbformat": 4,
 "nbformat_minor": 2
}

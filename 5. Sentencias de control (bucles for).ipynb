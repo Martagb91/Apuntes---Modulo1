{
 "cells": [
  {
   "cell_type": "markdown",
   "metadata": {},
   "source": [
    "# Sentencias de control (bucles for)"
   ]
  },
  {
   "cell_type": "markdown",
   "metadata": {},
   "source": [
    "Este bucle nunca es INFINITO, antes de que empiece le vamos a decir cuando parar. \n",
    "\n",
    "Para que funcione necesita dos cosas:\n",
    "\n",
    "1. La costumbre más estendida es usar la letra 'i' como variable de control, pero se puede usar cualqueir otra palabra:\n",
    "\n",
    "     - For 'i' in \"Ana: \n",
    "           print(i)\n",
    "        - Explicación --> por cada elemento (i) en (ana) hago algo  --> Se utiliza mucho la 'i' entre programadores para identificar la variable, ya que da igual el nombre que se le   ponga                \n",
    "        \n",
    "2. Sintaxis:\n",
    "    for variable_control in elemento_iterable:\n",
    "            instrucciones\n",
    "\n",
    "3. Construcción: \n",
    "     -  1º Elegir un elemento compuesto por subelemento (1 elemento que esté formado por un elemento más pequeño.), \n",
    "     -  2º realizar una acción en cada elemnto"
   ]
  },
  {
   "cell_type": "markdown",
   "metadata": {},
   "source": [
    "### EJEMPLO"
   ]
  },
  {
   "cell_type": "code",
   "execution_count": null,
   "metadata": {},
   "outputs": [
    {
     "name": "stdout",
     "output_type": "stream",
     "text": [
      "A\n",
      "n\n",
      "a\n"
     ]
    }
   ],
   "source": [
    "#reconoce que por estar 'letra' e 'in, da igual el nombre que le pongas. \n",
    "#Lo que le estas diciendo es que en la primera vuelta la variable ('letra') será 'A', en la segunda 'n', en la tercera 'a'. \n",
    "#Podrías poner cualquier nombre a la variable y actuaría igual\n",
    "\n",
    "\"\"\"La unidad mínima en 'ana' es cada letra, es decir, 'a' 'n' 'a' \"\"\"\n",
    "for letra in \"Ana\": \n",
    "      print(letra)  \n",
    "                    "
   ]
  },
  {
   "cell_type": "markdown",
   "metadata": {},
   "source": [
    "Ejemplo 2"
   ]
  },
  {
   "cell_type": "code",
   "execution_count": null,
   "metadata": {},
   "outputs": [
    {
     "name": "stdout",
     "output_type": "stream",
     "text": [
      "tienes que comprar lechuga\n",
      "tienes que comprar tomate\n",
      "tienes que comprar zanahoria\n"
     ]
    }
   ],
   "source": [
    "#Tengo una lista de la compra y quiero que Alexa me diga todo lo que tengo que comprar\n",
    "\"\"\"La unidad mínima en una lista es cada elemento (\"lechuga\", \"tomate\", \"zanahora\").\"\"\"\n",
    "\n",
    "lista_compra = [\"lechuga\", \"tomate\", \"zanahoria\"]\n",
    "\n",
    "for comida in lista_compra:\n",
    "    print(f\"tienes que comprar {comida}\") #la variable del print tiene que ser la misma que hayas creado después del 'for'"
   ]
  },
  {
   "cell_type": "code",
   "execution_count": 3,
   "metadata": {},
   "outputs": [
    {
     "name": "stdout",
     "output_type": "stream",
     "text": [
      "tienes que comprar lechuga\n",
      "tienes que comprar tomate\n",
      "tienes que comprar zanahoria\n"
     ]
    }
   ],
   "source": [
    "# Pero también podría ser alimento. El nombre se lo damos nosotros, da igual el que se le ponga, se tiene que ser coherente\n",
    "\n",
    "\n",
    "lista_compra = [\"lechuga\", \"tomate\", \"zanahoria\"]\n",
    "\n",
    "for alimento in lista_compra:\n",
    "    print(f\"tienes que comprar {alimento}\")"
   ]
  },
  {
   "cell_type": "markdown",
   "metadata": {},
   "source": [
    "EJEMPLO 2"
   ]
  },
  {
   "cell_type": "code",
   "execution_count": 4,
   "metadata": {},
   "outputs": [
    {
     "name": "stdout",
     "output_type": "stream",
     "text": [
      "1\n",
      "2\n",
      "3\n"
     ]
    }
   ],
   "source": [
    "for numero in [1,2,3]:\n",
    "    print(numero)"
   ]
  },
  {
   "cell_type": "code",
   "execution_count": null,
   "metadata": {},
   "outputs": [
    {
     "name": "stdout",
     "output_type": "stream",
     "text": [
      "20\n",
      "40\n",
      "60\n"
     ]
    }
   ],
   "source": [
    "#se UTILIZA cuando se tiene que HACER LO MISMO en muchos elementos en bucle.  \n",
    "\n",
    "for numero in [1,2,3]:\n",
    "    print(numero*20)   #se pueden hacer funciones, poner en Mayus, minus, etc. "
   ]
  },
  {
   "cell_type": "code",
   "execution_count": null,
   "metadata": {},
   "outputs": [
    {
     "name": "stdout",
     "output_type": "stream",
     "text": [
      "mi número favorito es el 1\n",
      "mi número favorito es el 2\n",
      "mi número favorito es el 3\n"
     ]
    }
   ],
   "source": [
    "for i in [1,2,3]:\n",
    "    print(f\"mi número favorito es el {i}\") #se puede meter en una frase"
   ]
  },
  {
   "cell_type": "code",
   "execution_count": null,
   "metadata": {},
   "outputs": [
    {
     "name": "stdout",
     "output_type": "stream",
     "text": [
      "rosa\n",
      "20\n",
      "Malaga\n",
      "1.7\n"
     ]
    }
   ],
   "source": [
    "elementos = [\"rosa\", 20, \"Malaga\" , 1.70]\n",
    "\n",
    "for elemento in elementos:  #NO HACER ESTA PRACTICA YA QUE PUEDE GENERAR CONFUSION QUE SE LLAMEN IGUAL/PARECIDO\n",
    "    print(elemento)"
   ]
  },
  {
   "cell_type": "code",
   "execution_count": 9,
   "metadata": {},
   "outputs": [
    {
     "name": "stdout",
     "output_type": "stream",
     "text": [
      "rosa\n",
      "20\n",
      "Malaga\n",
      "1.7\n"
     ]
    }
   ],
   "source": [
    "for i in elementos:\n",
    "    print(i)"
   ]
  },
  {
   "cell_type": "code",
   "execution_count": 11,
   "metadata": {},
   "outputs": [
    {
     "name": "stdout",
     "output_type": "stream",
     "text": [
      "['Maria Romero', 'Susana Ramirez', 'Carmen Castillo']\n"
     ]
    }
   ],
   "source": [
    "\"\"\" Con estos elementos podemos hacer la sacciones que queramos. \"\"\"\n",
    "\n",
    "# Por ejemplo, tengo una lista de nombres de clientes, pero me los han pasado con espacios de más y no respeta las mayúsculas. \n",
    "  # Quiero que cada palabra empiece con mayuscula y me la añada a una lista nueva\n",
    "\n",
    "\n",
    "clientas = [\"MAria Romero\", \" susana ramirez\", \"carmen Castillo \"]\n",
    "nueva_lista_clientes = []\n",
    "\n",
    "for clienta in clientas: \n",
    "    nueva_lista_clientes.append(clienta.title().strip())  # le pones las acciones de lo que le quieres hacer. \n",
    "                                                          # en este caso se quiere añadir a nueva lista, la lista de clienta Y que se apliquen las correcciones\n",
    "                                                          # Primero > añades a la nueva lista 'nueva_lista_clientes' los elementos de la lista 'clientas' separados por el 'for'\n",
    "                                                          # SEgundo > le dices a clienta que le quieres hacer, para ello a la 'nueva_lista_clientes' le añades un '.append()'\n",
    "                                                          # Por último, le dices que le quieres añadir los elementos de 'clienta' con los cambios que quieres, '.title().strip()'\n",
    "print(nueva_lista_clientes)"
   ]
  },
  {
   "cell_type": "code",
   "execution_count": 14,
   "metadata": {},
   "outputs": [
    {
     "name": "stdout",
     "output_type": "stream",
     "text": [
      "el numero es 10 y si lo multiplicamos por 10 es 100\n",
      "el numero es 20 y si lo multiplicamos por 10 es 200\n",
      "el numero es 14 y si lo multiplicamos por 10 es 140\n",
      "el numero es 50 y si lo multiplicamos por 10 es 500\n",
      "el numero es 230 y si lo multiplicamos por 10 es 2300\n",
      "el numero es 1 y si lo multiplicamos por 10 es 10\n"
     ]
    }
   ],
   "source": [
    "#Tengo esta lista de numeros. \n",
    "# Quiero que me diga en una grase, qué número es y cuanto sería si lo multiclamos por 10\n",
    "\n",
    "numero_aleatorios = [10,20,14,50,230,1]\n",
    "\n",
    "for numero in numero_aleatorios:\n",
    "    print(f\"el numero es {numero} y si lo multiplicamos por 10 es {numero*10}\")"
   ]
  },
  {
   "cell_type": "code",
   "execution_count": 16,
   "metadata": {},
   "outputs": [
    {
     "name": "stdout",
     "output_type": "stream",
     "text": [
      "dame una A\n",
      "dame una D\n",
      "dame una A\n",
      "dame una L\n",
      "dame una A\n",
      "dame una B\n"
     ]
    }
   ],
   "source": [
    "for i in \"ADALAB\":\n",
    "    print(f\"dame una {i}\")"
   ]
  },
  {
   "cell_type": "code",
   "execution_count": 17,
   "metadata": {},
   "outputs": [
    {
     "name": "stdout",
     "output_type": "stream",
     "text": [
      "dame una a\n",
      "dame una d\n",
      "dame una a\n",
      "dame una l\n",
      "dame una a\n",
      "dame una b\n"
     ]
    }
   ],
   "source": [
    "#ahora en minus\n",
    "\n",
    "for i in \"ADALAB\":\n",
    "    print(f\"dame una {i.lower()}\")"
   ]
  },
  {
   "cell_type": "code",
   "execution_count": 18,
   "metadata": {},
   "outputs": [
    {
     "name": "stdout",
     "output_type": "stream",
     "text": [
      "el nombre Paco tiene 4 caracteres\n",
      "el nombre juan tiene 4 caracteres\n",
      "el nombre jose tiene 4 caracteres\n",
      "el nombre Ana tiene 3 caracteres\n",
      "el nombre pol tiene 3 caracteres\n"
     ]
    }
   ],
   "source": [
    "tupla_nombres = (\"Paco\", \"juan\", \"jose\", \"Ana\", \"pol\")\n",
    "\n",
    "# Quiero que me imprima por cada nombre en una frase cone l nombre y el número de caracteres que tiene\n",
    "\n",
    "for nombre in tupla_nombres:\n",
    "    print(f\"el nombre {nombre} tiene {len(nombre)} caracteres\")"
   ]
  },
  {
   "cell_type": "markdown",
   "metadata": {},
   "source": [
    "### (!) Importante  cuando iteramos con un 'FOR' en un DICCIONARIO, recorremos por defecto las claves"
   ]
  },
  {
   "cell_type": "code",
   "execution_count": null,
   "metadata": {},
   "outputs": [
    {
     "name": "stdout",
     "output_type": "stream",
     "text": [
      "De primer plato tenemos sopa\n",
      "De segundo plato tenemos pollo a la naranja\n",
      "De postre tenemos tiramisu\n"
     ]
    }
   ],
   "source": [
    "# Podemos usar otras estructuras como los diccionarios\n",
    "\n",
    "diccionario_menu = {\"primer plato\": \"sopa\", \"segundo plato\": \"pollo a la naranja\", \"postre\": \"tiramisu\"}  #los elementos en este caso SIEMPRE se refiere a la CLAVE\n",
    "\n",
    "\n",
    "for elemento in diccionario_menu: \n",
    "    print(f\"De {elemento} tenemos {diccionario_menu[elemento]}\") #elemento de 'diccionario_menu' se tiene que poner entre [] porque es el elemento del diccionario. EJEMPLO ABAJO"
   ]
  },
  {
   "cell_type": "code",
   "execution_count": null,
   "metadata": {},
   "outputs": [
    {
     "data": {
      "text/plain": [
       "'sopa'"
      ]
     },
     "execution_count": 26,
     "metadata": {},
     "output_type": "execute_result"
    }
   ],
   "source": [
    "#Así se busca la clave en un diccionario. POR ESTO, se pone entre [] arriba\n",
    "diccionario_menu[\"primer plato\"]"
   ]
  },
  {
   "cell_type": "markdown",
   "metadata": {},
   "source": [
    "# FOR en la funcion  range()"
   ]
  },
  {
   "cell_type": "markdown",
   "metadata": {},
   "source": [
    "- SE usa para elegir un rando de números. Empieza desde el cero y se queda en el anterior al que pongamos. Es decir si pongo range(5), me contará 0,1,2,3,4-\n",
    "- También puedo ponerle de qué número a qué número quiero que vaya. _ejemplo_ range(0,11) --> contará del 0 al 10. "
   ]
  },
  {
   "cell_type": "code",
   "execution_count": 27,
   "metadata": {},
   "outputs": [
    {
     "name": "stdout",
     "output_type": "stream",
     "text": [
      "0\n",
      "1\n",
      "2\n",
      "3\n",
      "4\n",
      "5\n",
      "6\n",
      "7\n",
      "8\n",
      "9\n"
     ]
    }
   ],
   "source": [
    "#Uso del range: Le podemos da run rango de números\n",
    "\n",
    "for i in range(10):\n",
    "    print(i)"
   ]
  },
  {
   "cell_type": "code",
   "execution_count": null,
   "metadata": {},
   "outputs": [
    {
     "name": "stdout",
     "output_type": "stream",
     "text": [
      "1\n",
      "2\n",
      "3\n",
      "4\n"
     ]
    }
   ],
   "source": [
    "#si quiero que esté entre dos valores\n",
    "\n",
    "for i in range (1,5): #siempre llega a uno anterior al último. (!) IMPORANTE (!)\n",
    "    print(i)"
   ]
  },
  {
   "cell_type": "code",
   "execution_count": null,
   "metadata": {},
   "outputs": [
    {
     "name": "stdout",
     "output_type": "stream",
     "text": [
      "0\n",
      "2\n",
      "4\n",
      "6\n",
      "8\n"
     ]
    }
   ],
   "source": [
    "#así contará en base a la información que le demos en la tercera posición\n",
    "\n",
    "for i in range(0,10,2): #número de inicio, número donde quiero que acabe, cada cuantos números quiero que cuente\n",
    "    print(i)"
   ]
  },
  {
   "cell_type": "markdown",
   "metadata": {},
   "source": [
    "Dentro de un FOR, también podemos usar un condicional. \n",
    "\n",
    "Es decir, vamos a ir pasando por cada elemento pero SI se cumple una condición hacemos una cosa u otra."
   ]
  },
  {
   "cell_type": "code",
   "execution_count": null,
   "metadata": {},
   "outputs": [
    {
     "name": "stdout",
     "output_type": "stream",
     "text": [
      "[2, 4, 6, 8, 10, 12, 14, 16, 18, 20]\n"
     ]
    }
   ],
   "source": [
    "lista_num = [1,2,3,4,5,6,7,8,9,10,11,12,13,14,15,16,17,18,18,20]\n",
    "lista_nueva = []\n",
    "\n",
    "\n",
    "for num in range(1,21):\n",
    "    if num % 2 == 0:  #significa que al dividirlo entre 2 el resto es 0, es decir, es un número par. le damos una condición\n",
    "        lista_nueva.append(num) \n",
    "print(lista_nueva)\n"
   ]
  },
  {
   "cell_type": "code",
   "execution_count": 3,
   "metadata": {},
   "outputs": [
    {
     "data": {
      "text/plain": [
       "1"
      ]
     },
     "execution_count": 3,
     "metadata": {},
     "output_type": "execute_result"
    }
   ],
   "source": [
    "2025%2"
   ]
  },
  {
   "cell_type": "code",
   "execution_count": 36,
   "metadata": {},
   "outputs": [
    {
     "name": "stdout",
     "output_type": "stream",
     "text": [
      "[43, 98, 30, 30]\n"
     ]
    }
   ],
   "source": [
    "\"\"\"LECTURA DE LA LOGICA\"\"\"\n",
    "\n",
    "# si la variable i es mayor a 5, quiero que me la añadas a la lista nueva. SI NO\n",
    "\n",
    "lista_precios = [20,10,15,43,5,2,11,98,30,30,12]\n",
    "lista_nueva_precios = []\n",
    "\n",
    "for i in lista_precios:\n",
    "    if i >= 30:  \n",
    "        lista_nueva_precios.append(i) \n",
    "print(lista_nueva_precios)"
   ]
  },
  {
   "cell_type": "code",
   "execution_count": 38,
   "metadata": {},
   "outputs": [
    {
     "name": "stdout",
     "output_type": "stream",
     "text": [
      "para este segundo plato te vas a comer pollo a la naranja\n",
      "para este postre te vas a comer tiramisu\n"
     ]
    }
   ],
   "source": [
    "#ahora quiero hacer lo mismo pero en un diccionario\n",
    "\n",
    "diccionario_menu = {\"primer plato\": \"sopa\", \"segundo plato\": \"pollo a la naranja\", \"postre\": \"tiramisu\"}\n",
    "\n",
    "for platos in diccionario_menu:\n",
    "    if diccionario_menu[platos] != \"sopa\":\n",
    "        print(f\"para este {platos} te vas a comer {diccionario_menu[platos]}\")"
   ]
  },
  {
   "cell_type": "markdown",
   "metadata": {},
   "source": [
    "# TRY/EXCEPT"
   ]
  },
  {
   "cell_type": "markdown",
   "metadata": {},
   "source": [
    "- Es una forma de controlar errores en Python\n",
    "- Como os habéis fijado, cuando hacemos algo que está mal, da error en Python y se corta todo el código, esto puede ser un problema. Por eso usamos try/ecept para evitar que de error si algo sale mal. Así, si por ejemplo, entramos en el bucle, el código seguirá funcioanndo. \n",
    "- Se usa metiendo una estructura de código que puede que nos de error en try y luego definimos en except el error que podría ocurrir para que lo muestre. \n",
    "- La sintaxis es: \n",
    "    try:\n",
    "      código que pueda generar error\n",
    "    except TipoDeError:\n",
    "      código para menerar el error"
   ]
  },
  {
   "cell_type": "code",
   "execution_count": null,
   "metadata": {},
   "outputs": [
    {
     "name": "stdout",
     "output_type": "stream",
     "text": [
      "¡pero que haces????\n"
     ]
    }
   ],
   "source": [
    "try:\n",
    "    print(int(\"hola\"))   #si se puede hacer, te lo hace. En este caso el error esta en poner un 'int' siendo un 'str'\n",
    "except:\n",
    "    print(\"¡pero que haces????\")  #si el código que estás ejecutando no de puede hacer, te imprimirá esto"
   ]
  },
  {
   "cell_type": "markdown",
   "metadata": {},
   "source": [
    "LIST COMPRENHESION --> Mirarlo ya cuando la programación sea muy avanzada"
   ]
  },
  {
   "cell_type": "markdown",
   "metadata": {},
   "source": []
  }
 ],
 "metadata": {
  "kernelspec": {
   "display_name": "base",
   "language": "python",
   "name": "python3"
  },
  "language_info": {
   "codemirror_mode": {
    "name": "ipython",
    "version": 3
   },
   "file_extension": ".py",
   "mimetype": "text/x-python",
   "name": "python",
   "nbconvert_exporter": "python",
   "pygments_lexer": "ipython3",
   "version": "3.12.7"
  }
 },
 "nbformat": 4,
 "nbformat_minor": 2
}

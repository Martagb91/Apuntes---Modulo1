{
 "cells": [
  {
   "cell_type": "markdown",
   "metadata": {},
   "source": [
    "# 6. FUNCIONES"
   ]
  },
  {
   "cell_type": "markdown",
   "metadata": {},
   "source": [
    "# Índice\n",
    "\n",
    "- 1. Explicación\n",
    "- 2. Ejemplos\n",
    "\n",
    "     - Ejemplo 1: Función con variable\n",
    "     - Ejemplo 2: Función con lista \n",
    "     - Ejemplo 3: Función suma // resta\n",
    "     - Ejemplo 4: Print\n",
    "     - Ejemplo 5: valores (a,b,c)\n",
    "     - Ejemplo 6: range()\n",
    "     - Ejemplo 7: *args"
   ]
  },
  {
   "cell_type": "markdown",
   "metadata": {},
   "source": [
    "__________________________"
   ]
  },
  {
   "cell_type": "markdown",
   "metadata": {},
   "source": [
    "### 1. Explicación"
   ]
  },
  {
   "cell_type": "markdown",
   "metadata": {},
   "source": [
    "- Son bloques de código reutilizables que realizanuna tarea concretada - \"Encapsulamos\" unas instrucciones y le damos un nombre\n",
    "- Sirve para organizar mejor el código\n",
    "- Estructura:"
   ]
  },
  {
   "cell_type": "code",
   "execution_count": null,
   "metadata": {},
   "outputs": [],
   "source": [
    "def nombre_funcion(parametros): #definir + nombre que se le quiera dar a la función (parametos( números, palabras...))\n",
    "    código\n",
    "    return resultado"
   ]
  },
  {
   "cell_type": "code",
   "execution_count": null,
   "metadata": {},
   "outputs": [],
   "source": [
    "def restar(a,b): # restar = parametro    //   #(a,) = argumento, lo que le das dentro\n",
    "    return a-b "
   ]
  },
  {
   "cell_type": "markdown",
   "metadata": {},
   "source": [
    "### 2. Ejemplos"
   ]
  },
  {
   "cell_type": "markdown",
   "metadata": {},
   "source": [
    "**EJEMPLO 1** : Función con variable"
   ]
  },
  {
   "cell_type": "code",
   "execution_count": 5,
   "metadata": {},
   "outputs": [
    {
     "name": "stdout",
     "output_type": "stream",
     "text": [
      "Hola, maria\n"
     ]
    }
   ],
   "source": [
    "#Primero elijo la acción que quiero encapsular, porque va a ser ago que utilice muchas veces.\n",
    "#Esta acción en concreto es corta, solo es salidar. Pero podemos hacer que sea aún más corta, convirtiéndola en función\n",
    "\n",
    "nombre = \"maria\"\n",
    "\n",
    "print(f\"Hola, {nombre}\")"
   ]
  },
  {
   "cell_type": "code",
   "execution_count": 8,
   "metadata": {},
   "outputs": [],
   "source": [
    "#Creo una función llamada \"saludar\" a la que tengo que pasarle un nombre y el resultado es un print saludando a esa persona\n",
    "\n",
    "def saludar (nombre):\n",
    "    print(f\"hola, {nombre}\")"
   ]
  },
  {
   "cell_type": "markdown",
   "metadata": {},
   "source": [
    "**EJEMPLO 2** : Función con LISTA"
   ]
  },
  {
   "cell_type": "code",
   "execution_count": 10,
   "metadata": {},
   "outputs": [
    {
     "name": "stdout",
     "output_type": "stream",
     "text": [
      "Hola, carmen\n",
      "Hola, lucia\n",
      "Hola, Marisa\n",
      "Hola, ester\n",
      "Hola, juana\n"
     ]
    }
   ],
   "source": [
    "# ¿cómo podríamos ir saludando nombre por nombre?\n",
    "# ¿Cómo podemos convertir eso en una función?\n",
    "\n",
    "lista_nombre = [\"carmen\", \"lucia\", \"Marisa\", \"ester\", \"juana\"]\n",
    "\n",
    "for nombre in lista_nombre:\n",
    "    print(f\"Hola, {nombre}\")"
   ]
  },
  {
   "cell_type": "code",
   "execution_count": 14,
   "metadata": {},
   "outputs": [],
   "source": [
    "#quiero encapsular la función for en una función\n",
    "\n",
    "def saludar_amigas(lista): #el nombre del parámetro no importa, es el nombre que le doy a la función. No tiene por qué llamarse igual que la variable de la que lees\n",
    "      for nombre in lista:\n",
    "          print(f\"Hola, {nombre}\")"
   ]
  },
  {
   "cell_type": "code",
   "execution_count": null,
   "metadata": {},
   "outputs": [
    {
     "name": "stdout",
     "output_type": "stream",
     "text": [
      "Hola, elena\n",
      "Hola, sara\n",
      "Hola, carla\n",
      "Hola, paula\n"
     ]
    }
   ],
   "source": [
    "saludar_amigas([\"elena\", \"sara\", \"carla\", \"paula\"]) #te ejecuta la función guardada con el 'def' y te lo ejecuta en la nueva lista. "
   ]
  },
  {
   "cell_type": "code",
   "execution_count": null,
   "metadata": {},
   "outputs": [
    {
     "name": "stdout",
     "output_type": "stream",
     "text": [
      "Hola, p\n",
      "Hola, e\n",
      "Hola, p\n",
      "Hola, e\n"
     ]
    }
   ],
   "source": [
    "saludar_amigas(\"pepe\") #en este caso entenderá siempre que lo quieres hacer por cada elemento, porque la función que hemos guardado dice eso"
   ]
  },
  {
   "cell_type": "markdown",
   "metadata": {},
   "source": [
    "**EJEMPLO 3.1** : FUNCIÓN SUMA"
   ]
  },
  {
   "cell_type": "code",
   "execution_count": 16,
   "metadata": {},
   "outputs": [
    {
     "name": "stdout",
     "output_type": "stream",
     "text": [
      "55\n"
     ]
    }
   ],
   "source": [
    "a= 20\n",
    "b = 35\n",
    "\n",
    "c = a + b\n",
    "print(c)"
   ]
  },
  {
   "cell_type": "code",
   "execution_count": 18,
   "metadata": {},
   "outputs": [],
   "source": [
    "def sumar_numeros(num1, num2): #definimos que sumar números tiene que llevar entre () 2 números separados por ','\n",
    "    return num1 + num2         # esta función, nos devolverá una suma entre el número 1 y el número 2"
   ]
  },
  {
   "cell_type": "code",
   "execution_count": 19,
   "metadata": {},
   "outputs": [
    {
     "data": {
      "text/plain": [
       "7"
      ]
     },
     "execution_count": 19,
     "metadata": {},
     "output_type": "execute_result"
    }
   ],
   "source": [
    "sumar_numeros(2,5)"
   ]
  },
  {
   "cell_type": "markdown",
   "metadata": {},
   "source": [
    "**EJEMPLO 3.2** : FUNCIÓN RESTA"
   ]
  },
  {
   "cell_type": "code",
   "execution_count": 20,
   "metadata": {},
   "outputs": [
    {
     "data": {
      "text/plain": [
       "20"
      ]
     },
     "execution_count": 20,
     "metadata": {},
     "output_type": "execute_result"
    }
   ],
   "source": [
    "num1 = 30\n",
    "num2 = 10\n",
    "\n",
    "num1 - num2"
   ]
  },
  {
   "cell_type": "code",
   "execution_count": null,
   "metadata": {},
   "outputs": [],
   "source": [
    "def resta(num1, num2):\n",
    "    resultado = num1 - num2  #esto se puede quitar y poner solo print(num1 - num2)\n",
    "    print(resultado)"
   ]
  },
  {
   "cell_type": "code",
   "execution_count": 25,
   "metadata": {},
   "outputs": [
    {
     "name": "stdout",
     "output_type": "stream",
     "text": [
      "1500\n"
     ]
    }
   ],
   "source": [
    "resta(2500, 1000)"
   ]
  },
  {
   "cell_type": "code",
   "execution_count": 26,
   "metadata": {},
   "outputs": [
    {
     "data": {
      "text/plain": [
       "'noviembre = resta(10,4)'"
      ]
     },
     "execution_count": 26,
     "metadata": {},
     "output_type": "execute_result"
    }
   ],
   "source": [
    "#con return entiende que ahí acaba la función y además LO GUARDA en la variable. Es decir, creas una variable con esa función\n",
    "def sumar_numeros(num1, num2): \n",
    "    return num1 + num2   \n",
    "\n",
    "noviembre = sumar_numeros(10,2)\n",
    "\n",
    "\n",
    " #print, se puede poner más funciones y además LO MUESTRA\n",
    "\n",
    "def resta(num1, num2):\n",
    "    resultado = num1 - num2 \n",
    "    print(resultado)\n",
    "\n",
    "\n",
    "\"\"\"noviembre = resta(10,4)\"\"\"  # Aquí no se guardaría nada, y si luego ejecutas noviembre, estaría vacio"
   ]
  },
  {
   "cell_type": "markdown",
   "metadata": {},
   "source": []
  },
  {
   "cell_type": "markdown",
   "metadata": {},
   "source": [
    "**EJEMPLO 4** : Print"
   ]
  },
  {
   "cell_type": "code",
   "execution_count": 27,
   "metadata": {},
   "outputs": [],
   "source": [
    "#También puedo hacer uan función a la que no haya que pasarle nada. Solo queme imprima algo: Quiero una función que se despida\n",
    "\n",
    "def despedir():\n",
    "    print(\"Adios\")"
   ]
  },
  {
   "cell_type": "code",
   "execution_count": 28,
   "metadata": {},
   "outputs": [
    {
     "name": "stdout",
     "output_type": "stream",
     "text": [
      "Adios\n"
     ]
    }
   ],
   "source": [
    "despedir()"
   ]
  },
  {
   "cell_type": "code",
   "execution_count": 29,
   "metadata": {},
   "outputs": [],
   "source": [
    "def titular(frase):\n",
    "    return frase.title()"
   ]
  },
  {
   "cell_type": "code",
   "execution_count": 30,
   "metadata": {},
   "outputs": [],
   "source": [
    "frase_elegida = input(\"dime una frase\")"
   ]
  },
  {
   "cell_type": "code",
   "execution_count": 31,
   "metadata": {},
   "outputs": [
    {
     "data": {
      "text/plain": [
       "'Sigue Aprendiando'"
      ]
     },
     "execution_count": 31,
     "metadata": {},
     "output_type": "execute_result"
    }
   ],
   "source": [
    "titular(frase_elegida)"
   ]
  },
  {
   "cell_type": "code",
   "execution_count": null,
   "metadata": {},
   "outputs": [],
   "source": [
    "#le digo que frase_elegida es = a la función 'titular()' que recoge la frase de la función 'input()' y despues lo guarda\n",
    "frase_elegida = titular(input(\"dime una frase\"))"
   ]
  },
  {
   "cell_type": "code",
   "execution_count": 34,
   "metadata": {},
   "outputs": [
    {
     "data": {
      "text/plain": [
       "'Hola Esto Es Una Prueba Para Ver Si Funciona Titular'"
      ]
     },
     "execution_count": 34,
     "metadata": {},
     "output_type": "execute_result"
    }
   ],
   "source": [
    " #al ejecutar la variable, vemos que se ha guardado con la frase que le damos al ejecutar la anterior\n",
    "\n",
    "frase_elegida"
   ]
  },
  {
   "cell_type": "markdown",
   "metadata": {},
   "source": []
  },
  {
   "cell_type": "markdown",
   "metadata": {},
   "source": [
    "**EJEMPLO 5** : valores (a,b,c)"
   ]
  },
  {
   "cell_type": "code",
   "execution_count": 35,
   "metadata": {},
   "outputs": [],
   "source": [
    "# quiero una función a la que le pueda pasar 3 números y me los sume PERO que uno de ellos a veces pueda no venir\n",
    "\n",
    "def sumar_num(a,b,c=0):  #el valor que a veces puede NO venir o venir vacio, SIEMPRE se pone al final y se le añade un '=0'\n",
    "    return a+b+c"
   ]
  },
  {
   "cell_type": "code",
   "execution_count": 36,
   "metadata": {},
   "outputs": [
    {
     "data": {
      "text/plain": [
       "3"
      ]
     },
     "execution_count": 36,
     "metadata": {},
     "output_type": "execute_result"
    }
   ],
   "source": [
    "sumar_num(1,2)"
   ]
  },
  {
   "cell_type": "code",
   "execution_count": 37,
   "metadata": {},
   "outputs": [
    {
     "data": {
      "text/plain": [
       "6"
      ]
     },
     "execution_count": 37,
     "metadata": {},
     "output_type": "execute_result"
    }
   ],
   "source": [
    "sumar_num(1,2,3)"
   ]
  },
  {
   "cell_type": "code",
   "execution_count": 38,
   "metadata": {},
   "outputs": [
    {
     "ename": "TypeError",
     "evalue": "sumar_num() missing 1 required positional argument: 'b'",
     "output_type": "error",
     "traceback": [
      "\u001b[1;31m---------------------------------------------------------------------------\u001b[0m",
      "\u001b[1;31mTypeError\u001b[0m                                 Traceback (most recent call last)",
      "Cell \u001b[1;32mIn[38], line 1\u001b[0m\n\u001b[1;32m----> 1\u001b[0m sumar_num(\u001b[38;5;241m1\u001b[39m)\n",
      "\u001b[1;31mTypeError\u001b[0m: sumar_num() missing 1 required positional argument: 'b'"
     ]
    }
   ],
   "source": [
    "sumar_num(1)"
   ]
  },
  {
   "cell_type": "code",
   "execution_count": 53,
   "metadata": {},
   "outputs": [],
   "source": [
    "def sumar_num(a,b,c=10):  #el valor C si no viene será 10\n",
    "    return a+b+c"
   ]
  },
  {
   "cell_type": "code",
   "execution_count": 54,
   "metadata": {},
   "outputs": [
    {
     "data": {
      "text/plain": [
       "13"
      ]
     },
     "execution_count": 54,
     "metadata": {},
     "output_type": "execute_result"
    }
   ],
   "source": [
    "sumar_num(1,2)"
   ]
  },
  {
   "cell_type": "markdown",
   "metadata": {},
   "source": []
  },
  {
   "cell_type": "markdown",
   "metadata": {},
   "source": [
    "**EJEMPLO 6** : range ()"
   ]
  },
  {
   "cell_type": "code",
   "execution_count": 39,
   "metadata": {},
   "outputs": [],
   "source": [
    "#Podría tener una función que me genere la tabla del dos cuando quiera, así no tend´ria que escribir este código una y otra vez\n",
    "\n",
    "\n",
    "def tabla_de_dos():\n",
    "    for i in range(0,11):\n",
    "        print (f\"2 x {i} = {i*2}\")"
   ]
  },
  {
   "cell_type": "code",
   "execution_count": 40,
   "metadata": {},
   "outputs": [
    {
     "name": "stdout",
     "output_type": "stream",
     "text": [
      "2 x 0 = 0\n",
      "2 x 1 = 2\n",
      "2 x 2 = 4\n",
      "2 x 3 = 6\n",
      "2 x 4 = 8\n",
      "2 x 5 = 10\n",
      "2 x 6 = 12\n",
      "2 x 7 = 14\n",
      "2 x 8 = 16\n",
      "2 x 9 = 18\n",
      "2 x 10 = 20\n"
     ]
    }
   ],
   "source": [
    "tabla_de_dos()"
   ]
  },
  {
   "cell_type": "code",
   "execution_count": 43,
   "metadata": {},
   "outputs": [],
   "source": [
    "# una función que me cree la tabla de multiplicar del número que yo eliga ¿cómo sería?\n",
    "\n",
    "def tabla_multiplicar(numero):\n",
    "    for i in range(0,11):\n",
    "        print(f\"{numero} x {i} = {numero * i}\")\n"
   ]
  },
  {
   "cell_type": "code",
   "execution_count": 42,
   "metadata": {},
   "outputs": [
    {
     "name": "stdout",
     "output_type": "stream",
     "text": [
      "3 x 0 = 0\n",
      "3 x 1 = 3\n",
      "3 x 2 = 6\n",
      "3 x 3 = 9\n",
      "3 x 4 = 12\n",
      "3 x 5 = 15\n",
      "3 x 6 = 18\n",
      "3 x 7 = 21\n",
      "3 x 8 = 24\n",
      "3 x 9 = 27\n",
      "3 x 10 = 30\n"
     ]
    }
   ],
   "source": [
    "tabla_multiplicar(3)"
   ]
  },
  {
   "cell_type": "code",
   "execution_count": 47,
   "metadata": {},
   "outputs": [
    {
     "name": "stdout",
     "output_type": "stream",
     "text": [
      "Marta x 0 = \n",
      "Marta x 1 = Marta\n",
      "Marta x 2 = MartaMarta\n",
      "Marta x 3 = MartaMartaMarta\n",
      "Marta x 4 = MartaMartaMartaMarta\n",
      "Marta x 5 = MartaMartaMartaMartaMarta\n",
      "Marta x 6 = MartaMartaMartaMartaMartaMarta\n",
      "Marta x 7 = MartaMartaMartaMartaMartaMartaMarta\n",
      "Marta x 8 = MartaMartaMartaMartaMartaMartaMartaMarta\n",
      "Marta x 9 = MartaMartaMartaMartaMartaMartaMartaMartaMarta\n",
      "Marta x 10 = MartaMartaMartaMartaMartaMartaMartaMartaMartaMarta\n"
     ]
    }
   ],
   "source": [
    "tabla_multiplicar(\"Marta\")"
   ]
  },
  {
   "cell_type": "code",
   "execution_count": 50,
   "metadata": {},
   "outputs": [],
   "source": [
    "#quiero una función que me sume dos números y los multiplique por 100 y me devuelva un resutlado que pueda guardar en una nueva variable\n",
    "\n",
    "def suma_y_porcien(a,b):\n",
    "    return (a+b)*100"
   ]
  },
  {
   "cell_type": "code",
   "execution_count": 51,
   "metadata": {},
   "outputs": [],
   "source": [
    "resultado = suma_y_porcien(5,60)"
   ]
  },
  {
   "cell_type": "code",
   "execution_count": 52,
   "metadata": {},
   "outputs": [
    {
     "data": {
      "text/plain": [
       "6500"
      ]
     },
     "execution_count": 52,
     "metadata": {},
     "output_type": "execute_result"
    }
   ],
   "source": [
    "resultado"
   ]
  },
  {
   "cell_type": "code",
   "execution_count": 58,
   "metadata": {},
   "outputs": [],
   "source": [
    "#Necesito una función a la que le pasemos una palabra y nos diga cuantos caracteres tiene\n",
    "\n",
    "def caracteres(palabra):\n",
    "    print(f\"tiene {len(palabra)} caracteres\")"
   ]
  },
  {
   "cell_type": "code",
   "execution_count": 59,
   "metadata": {},
   "outputs": [
    {
     "name": "stdout",
     "output_type": "stream",
     "text": [
      "tiene 11 caracteres\n"
     ]
    }
   ],
   "source": [
    "caracteres(\"Chupacabras\")"
   ]
  },
  {
   "cell_type": "markdown",
   "metadata": {},
   "source": [
    "# ¿Qué pasa si yo no sé cuántos parámetros voy a pasarle a mi función?"
   ]
  },
  {
   "cell_type": "markdown",
   "metadata": {},
   "source": [
    "**EJEMPLO 7** : *args"
   ]
  },
  {
   "cell_type": "code",
   "execution_count": 2,
   "metadata": {},
   "outputs": [],
   "source": [
    "#lo que yo le pase lo va a tratar como una tupla\n",
    "#en este curso he hecho 5 examenes y necesito sacar la medi\n",
    "\n",
    "def media_examenes(*args):\n",
    "    return round((sum(args)/len(args)))  #sumo las notas y luego lo divido entre cuántas notas he tendio 'len(args)\n"
   ]
  },
  {
   "cell_type": "code",
   "execution_count": 3,
   "metadata": {},
   "outputs": [
    {
     "data": {
      "text/plain": [
       "7"
      ]
     },
     "execution_count": 3,
     "metadata": {},
     "output_type": "execute_result"
    }
   ],
   "source": [
    "# SUMA 5,8,4,7,9,10  y lo divide entre 6 --> saca la media\n",
    "media_examenes(5,8,4,7,9,10)\n",
    "\n",
    "\n",
    "\n"
   ]
  },
  {
   "cell_type": "code",
   "execution_count": null,
   "metadata": {},
   "outputs": [],
   "source": []
  }
 ],
 "metadata": {
  "kernelspec": {
   "display_name": "base",
   "language": "python",
   "name": "python3"
  },
  "language_info": {
   "codemirror_mode": {
    "name": "ipython",
    "version": 3
   },
   "file_extension": ".py",
   "mimetype": "text/x-python",
   "name": "python",
   "nbconvert_exporter": "python",
   "pygments_lexer": "ipython3",
   "version": "3.12.7"
  }
 },
 "nbformat": 4,
 "nbformat_minor": 2
}

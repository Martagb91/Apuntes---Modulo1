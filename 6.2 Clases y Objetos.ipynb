{
 "cells": [
  {
   "cell_type": "markdown",
   "metadata": {},
   "source": [
    "# 6.2 CLASES Y OBJETOS"
   ]
  },
  {
   "cell_type": "markdown",
   "metadata": {},
   "source": [
    "### ¿Qué es una clase?"
   ]
  },
  {
   "cell_type": "markdown",
   "metadata": {},
   "source": [
    "- Es una plantilla, un modelo o molde en base al cual se pueden crear objetos. \n",
    "- Tendrá atributos y métodos. Los métodos son lo que conocemos como funciones. \n",
    "- Los nombres de las 'clases' se escriben TODO JUNTO y con la 'primera letra de cada palabra' en MAYÚSCULA: MiClase, CuentaBancaria, NombreClase\n",
    "- Los nombres de los 'atributos y métodos' van en MINÚSCULA\n",
    "- Por ejemplo, podemos crear un molde de dispositivo electrónico. Esa será la clase y un objeto peude ser un mócil, una tele...\n",
    "- Siempre tiene un método llamado \"método constructor\" que se llama def __init__"
   ]
  },
  {
   "cell_type": "code",
   "execution_count": null,
   "metadata": {},
   "outputs": [],
   "source": [
    "# - Sintaxis\n",
    "\n",
    "class DispositivoElectronico: \n",
    "\n",
    "    def __init__(self,atributo1, atributo2):\n",
    "        self.atributo1 = atributo1 \n",
    "        self.atributo2 = atributo2\n",
    "\n",
    "    def metodo1(self, argumento):  \n",
    "        el código que sea\n",
    "\n",
    "    def metodo2(self, argumento):\n",
    "        el código que sea\n",
    "\n",
    "\n",
    "\n",
    "#Clase = Objeto = algo real. Ejemplo: PERSONA(ROCIO)\n",
    "#atributo son adjetivos, cosas. Ejemplo: alta, 32, sevilla\n",
    "#argumento = son cosas que hago. Ejemplo : le va a saludar\n"
   ]
  },
  {
   "cell_type": "code",
   "execution_count": null,
   "metadata": {},
   "outputs": [],
   "source": [
    "class Persona: \n",
    "    #PRIMERO TIENE una función que se llama CLASE, es decir, la plantilla. Es como crear la clase. \n",
    "    \n",
    "      def __init__(self, color, altura, edad): #Self es igual a uno mismo, que está haciendose sobre esa clase 'persona2\n",
    "        self.color = color #estableces las características de esta persona (atributo1) y se tiene que llamar igual que el atributo que has añadido, en este caso 'color\n",
    "        self.marca = altura #estableces las características de esta persona (atributo2) y se tiene que llamar igual que el atributo que has añadido, en este caso 'altura\n",
    "        self.edad = edad \n",
    "            \n",
    "            # a partir de aquí añadimos el METODO, es decir, LO QUE HACE\n",
    "\n",
    "      def sumar(self, a, b):  \n",
    "        el código que sea\n",
    "\n",
    "        #si quiero hacer referencia a 'color', 'altura' o 'edad' hay que hacerlo utilizando siempre 'self.atributo)\n",
    "        self.color (a,b)\n",
    "\n",
    "      def apagar(self):\n",
    "        el código que sea\n",
    "        print(f\"Se ha apagado tu {self.edad}\")"
   ]
  },
  {
   "cell_type": "markdown",
   "metadata": {},
   "source": [
    "### ¿Qué es un objeto?"
   ]
  },
  {
   "cell_type": "markdown",
   "metadata": {},
   "source": [
    "- Es un elemento o instancia de una clase. Es decir, una identidad concreta creada a partir de la clase\n",
    "- Si tengo una clase llamada DispositivoElectronico, puedo crear un objeto llamado Televisor con esta plantilla y tendrá esas características (atributos) y métodos"
   ]
  },
  {
   "cell_type": "markdown",
   "metadata": {},
   "source": [
    "### Conceptos importantes:"
   ]
  },
  {
   "cell_type": "markdown",
   "metadata": {},
   "source": [
    "- Clase --> plantilla, modelo\n",
    "- Objeto --> objeto creato a partir de una plantilla\n",
    "- Atributo --> caraterística de la clase\n",
    "- Método --> funciones de una clase"
   ]
  },
  {
   "cell_type": "markdown",
   "metadata": {},
   "source": [
    "### EJEMPLO 1"
   ]
  },
  {
   "cell_type": "code",
   "execution_count": 23,
   "metadata": {},
   "outputs": [],
   "source": [
    "class Persona: \n",
    "    def __init__(self, nombre, apellido, edad, profresion, altura):\n",
    "        self.nombre = nombre\n",
    "        self.apellido = apellido\n",
    "        self.edad = edad\n",
    "        self.profesion = profresion\n",
    "        self.altura = altura\n",
    "\n",
    "    def saludar(self, texto):\n",
    "        print(f\"Hola {texto}. Soy {self.nombre} {self.apellido}\")\n",
    "\n",
    "    def despedida(self):\n",
    "        print(\"Adiós\")\n",
    "\n",
    "    def decir_edad(self):\n",
    "        print(f\"Tengo {self.edad} años\")\n",
    "\n",
    "    def decir_profesion(self):\n",
    "        print(f\"Me dedico a {self.profesion}\")\n",
    "\n",
    "    def sumar_numeros(self, a, b):\n",
    "        print(f\"oye, claro que sé sumar {a} + {b} = {a+b}\")\n",
    "\n",
    "    def sumar_numeros_que_quiera(self, *args):\n",
    "        print(f\"oye, claro que sé sumar {sum(args)}\")\n"
   ]
  },
  {
   "cell_type": "code",
   "execution_count": 38,
   "metadata": {},
   "outputs": [],
   "source": [
    "HenryCavill = Persona(nombre = \"Henry\", apellido = \"Cavill\", edad=41, profresion=\"actor\", altura=1.90)"
   ]
  },
  {
   "cell_type": "code",
   "execution_count": null,
   "metadata": {},
   "outputs": [],
   "source": [
    "#si sabemos el orden de la svariables creadas en __init__ también se puede crear así\n",
    "\n",
    "HenryCavill = Persona(\"Henry\", \"Cavill\", 41, \"actor\", 1.90 )"
   ]
  },
  {
   "cell_type": "code",
   "execution_count": null,
   "metadata": {},
   "outputs": [
    {
     "data": {
      "text/plain": [
       "1.95"
      ]
     },
     "execution_count": 11,
     "metadata": {},
     "output_type": "execute_result"
    }
   ],
   "source": [
    "#puedo tanto acceder \n",
    "HenryCavill.altura\n",
    "\n",
    "\n",
    "#como modificar el valor\n",
    "\n",
    "HenryCavill.altura = 1.95\n",
    "\n",
    "#ya está guardado el nuevo valor\n",
    "\n",
    "HenryCavill.altura\n",
    "\n"
   ]
  },
  {
   "cell_type": "code",
   "execution_count": 6,
   "metadata": {},
   "outputs": [
    {
     "data": {
      "text/plain": [
       "41"
      ]
     },
     "execution_count": 6,
     "metadata": {},
     "output_type": "execute_result"
    }
   ],
   "source": [
    "HenryCavill.edad"
   ]
  },
  {
   "cell_type": "code",
   "execution_count": 7,
   "metadata": {},
   "outputs": [
    {
     "data": {
      "text/plain": [
       "'actor'"
      ]
     },
     "execution_count": 7,
     "metadata": {},
     "output_type": "execute_result"
    }
   ],
   "source": [
    "HenryCavill.profesion"
   ]
  },
  {
   "cell_type": "code",
   "execution_count": 8,
   "metadata": {},
   "outputs": [
    {
     "data": {
      "text/plain": [
       "'Henry'"
      ]
     },
     "execution_count": 8,
     "metadata": {},
     "output_type": "execute_result"
    }
   ],
   "source": [
    "HenryCavill.nombre"
   ]
  },
  {
   "cell_type": "code",
   "execution_count": 12,
   "metadata": {},
   "outputs": [
    {
     "name": "stdout",
     "output_type": "stream",
     "text": [
      "Hola Adalabers. Soy Henry Cavill\n"
     ]
    }
   ],
   "source": [
    "HenryCavill.saludar(\"Adalabers\")"
   ]
  },
  {
   "cell_type": "code",
   "execution_count": 13,
   "metadata": {},
   "outputs": [
    {
     "name": "stdout",
     "output_type": "stream",
     "text": [
      "Adiós\n"
     ]
    }
   ],
   "source": [
    "HenryCavill.despedida()"
   ]
  },
  {
   "cell_type": "code",
   "execution_count": 15,
   "metadata": {},
   "outputs": [
    {
     "name": "stdout",
     "output_type": "stream",
     "text": [
      "Tengo 41 años\n"
     ]
    }
   ],
   "source": [
    "HenryCavill.decir_edad()"
   ]
  },
  {
   "cell_type": "code",
   "execution_count": 18,
   "metadata": {},
   "outputs": [
    {
     "name": "stdout",
     "output_type": "stream",
     "text": [
      "oye, claro que sé sumar 2 + 3 = 5\n"
     ]
    }
   ],
   "source": [
    "HenryCavill.sumar_numeros(2,3)  #aquí no se añade ya el self"
   ]
  },
  {
   "cell_type": "code",
   "execution_count": null,
   "metadata": {},
   "outputs": [
    {
     "name": "stdout",
     "output_type": "stream",
     "text": [
      "oye, claro que sé sumar 35\n"
     ]
    }
   ],
   "source": [
    "HenryCavill.sumar_numeros_que_quiera(2,3,4,5,6,7,8) #como esto lo he añadido después, tengo que volver a ejecutar a Henry para uqe me vaya la función, sino me dará error"
   ]
  },
  {
   "cell_type": "markdown",
   "metadata": {},
   "source": [
    "## EJEMPLO 2"
   ]
  },
  {
   "cell_type": "code",
   "execution_count": 51,
   "metadata": {},
   "outputs": [],
   "source": [
    "class DispositivoElectronico: \n",
    "    def __init__(self, nombre, marca, color, precio):\n",
    "        self.nombre = nombre\n",
    "        self.marca = marca\n",
    "        self.color = color\n",
    "        self.precio = precio\n",
    "    \n",
    "\n",
    "    def encender(self):\n",
    "        print(f\"Se ha encendido\")\n",
    "\n",
    "    def despedida(self):\n",
    "        print(\"Se ha apagado\")\n",
    "\n",
    "    def descripcion(self):\n",
    "        print(f\" {self.nombre}: cuesta {self.precio} euros, es de la marca {self.marca} y de color {self.color}\")\n",
    "\n",
    "    def comprar(self,dinero):\n",
    "        if dinero >= self.precio:\n",
    "            print(f\"Aquí tienes tu vuelta: {dinero - self.precio} euros\")\n",
    "        else: \n",
    "            print(f\"lo siento, no te puedes permitir un móvil de la marca {self.marca} \")"
   ]
  },
  {
   "cell_type": "code",
   "execution_count": 52,
   "metadata": {},
   "outputs": [],
   "source": [
    "movil1 = DispositivoElectronico(\"Xiaomi 11 PRO\", \"Xiaomi\", \"rojo\", 500)"
   ]
  },
  {
   "cell_type": "code",
   "execution_count": 28,
   "metadata": {},
   "outputs": [
    {
     "name": "stdout",
     "output_type": "stream",
     "text": [
      "Se ha encendido\n"
     ]
    }
   ],
   "source": [
    "movil1.encender()"
   ]
  },
  {
   "cell_type": "code",
   "execution_count": 35,
   "metadata": {},
   "outputs": [
    {
     "data": {
      "text/plain": [
       "'rojo'"
      ]
     },
     "execution_count": 35,
     "metadata": {},
     "output_type": "execute_result"
    }
   ],
   "source": [
    "movil1.color"
   ]
  },
  {
   "cell_type": "code",
   "execution_count": 36,
   "metadata": {},
   "outputs": [],
   "source": [
    "#lo quiero rosa\n",
    "\n",
    "movil1.color = \"rosa\" #le cambio el color"
   ]
  },
  {
   "cell_type": "code",
   "execution_count": 42,
   "metadata": {},
   "outputs": [
    {
     "name": "stdout",
     "output_type": "stream",
     "text": [
      "lo siento, no te puedes permitir un móvil de la marca Xiaomi\n"
     ]
    }
   ],
   "source": [
    "movil1.comprar(200)"
   ]
  },
  {
   "cell_type": "code",
   "execution_count": 53,
   "metadata": {},
   "outputs": [
    {
     "name": "stdout",
     "output_type": "stream",
     "text": [
      "Aquí tienes tu vuelta: 500 euros\n"
     ]
    }
   ],
   "source": [
    "movil1.comprar(1000)"
   ]
  },
  {
   "cell_type": "markdown",
   "metadata": {},
   "source": [
    "HERENCIA DE LAS CLASES"
   ]
  },
  {
   "cell_type": "markdown",
   "metadata": {},
   "source": [
    "Significa que hay una clase que puede heredar lo de la otra clase\n",
    "\n",
    "- Clase que hereda --> CLASE HIJA, SUBCLASE o **CHILD**\n",
    "- Clase de la que hereda --> CLASE MADRE; SUPERCLASE O **PARENT**\n",
    "\n",
    "Las clases hijas pueden modificar los atributos y métodos de las clases madre o crear unos nuevos"
   ]
  },
  {
   "cell_type": "code",
   "execution_count": null,
   "metadata": {},
   "outputs": [],
   "source": [
    "class Hijo(Persona):  #con esto ya está creado\n",
    "    pass"
   ]
  },
  {
   "cell_type": "code",
   "execution_count": null,
   "metadata": {},
   "outputs": [],
   "source": [
    "#si quiero añadir algo más al HIJO\n",
    "\n",
    "class Dispositivo(DispositivoElectronico):\n",
    "\n",
    "    def __init__(self, nombre, marca, color, precio, estado, bateria): #tienes que añadir las que ha heredado + las nuevas\n",
    "        super().__init__(nombre, marca, color, precio) #Esto son los atributos que hereda del PARENT\n",
    "        self.estado = estado #Nuevo atributo del CHILD\n",
    "        self.bateria = bateria #Nuevo atributo del CHILD\n",
    "\n",
    "    def estado_movil(self):\n",
    "        print(f\"El estado de este móvil es: {self.estado}\")\n"
   ]
  },
  {
   "cell_type": "code",
   "execution_count": 60,
   "metadata": {},
   "outputs": [],
   "source": [
    "TV = Dispositivo(\"Samsung A50\", \"Samsung\", \"rojo\", 400.50, \"BIEN\", \"agotada\")"
   ]
  },
  {
   "cell_type": "code",
   "execution_count": 61,
   "metadata": {},
   "outputs": [
    {
     "name": "stdout",
     "output_type": "stream",
     "text": [
      "El estado de este móvil es: BIEN\n"
     ]
    }
   ],
   "source": [
    "TV.estado_movil()"
   ]
  },
  {
   "cell_type": "code",
   "execution_count": null,
   "metadata": {},
   "outputs": [],
   "source": []
  }
 ],
 "metadata": {
  "kernelspec": {
   "display_name": "base",
   "language": "python",
   "name": "python3"
  },
  "language_info": {
   "codemirror_mode": {
    "name": "ipython",
    "version": 3
   },
   "file_extension": ".py",
   "mimetype": "text/x-python",
   "name": "python",
   "nbconvert_exporter": "python",
   "pygments_lexer": "ipython3",
   "version": "3.12.7"
  }
 },
 "nbformat": 4,
 "nbformat_minor": 2
}

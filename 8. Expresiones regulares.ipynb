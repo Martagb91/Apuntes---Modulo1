{
 "cells": [
  {
   "cell_type": "markdown",
   "metadata": {},
   "source": [
    "# 8. REGEX o EXPRESIONES REGULARES"
   ]
  },
  {
   "cell_type": "markdown",
   "metadata": {},
   "source": [
    "## 1. Definición\n",
    "\n",
    "- Usamos una **librería de python llamada re**: import re\n",
    "- nos permite crear patrones de texto y después buscar una coincidencia, entre otras cosas. \n",
    "- Imaginaos que yo epero que la usuaria me introduzca correo electrónico válido. Podría usar \"if @ not in email\". Pero igual el correo es rocio\".com y tampoco es válido. Me tendría qu easegurar que la estructura es @ algo más y .com o .es\n",
    "Para ello, puedo crear una estructura y asegurarme que se cumple. \n",
    "- Es decir, **sirve para crear patrones y comprobar que se cumple en un texto**"
   ]
  },
  {
   "cell_type": "code",
   "execution_count": 1,
   "metadata": {},
   "outputs": [],
   "source": [
    "import re"
   ]
  },
  {
   "cell_type": "markdown",
   "metadata": {},
   "source": [
    "## 2. Funciones"
   ]
  },
  {
   "cell_type": "code",
   "execution_count": null,
   "metadata": {},
   "outputs": [],
   "source": [
    "1. re.search()  --> # Busca el patrón dentro de una cadena y devuelve LA PRIMERA COINCIDENCIA que encuentre\n",
    "resultado = re.search(patron,texto) \"\"\"ESTRUCTURA\"\"\"\n",
    "\n",
    "2. #Comprueba si el patrón coincide con EL principio de una cadena\n",
    "\n",
    "resultado = re.match() patron,texto) \n",
    "\n",
    "3. #Encuentra todas las coincidencias del patrón en una cadena de texto y las devuelve en forma de lista\n",
    "\n",
    "resultado = re.findall() patron,texto) \n",
    "\n",
    "4. # Divide el texto por el patrón y devuelve las subcadenas, eliminando el patrón\n",
    "\n",
    "resultado = re.split() patron,texto) "
   ]
  },
  {
   "cell_type": "markdown",
   "metadata": {},
   "source": [
    "### 2.1 Ejemplos"
   ]
  },
  {
   "cell_type": "code",
   "execution_count": 2,
   "metadata": {},
   "outputs": [
    {
     "name": "stdout",
     "output_type": "stream",
     "text": [
      "<re.Match object; span=(6, 11), match='mente'>\n"
     ]
    }
   ],
   "source": [
    "resultado2 = re.search(\"mente\", \"en tu mente\")\n",
    "print(resultado2)"
   ]
  },
  {
   "cell_type": "code",
   "execution_count": null,
   "metadata": {},
   "outputs": [],
   "source": [
    "resultado2 = re.match(\"mente\", \"en tu mente\") #solo buscaría si \"mente\" aparece en el segundo elemento al principio, es decir, si \"en\" es \"mente\"\n",
    "print(resultado2)"
   ]
  },
  {
   "cell_type": "code",
   "execution_count": 3,
   "metadata": {},
   "outputs": [
    {
     "name": "stdout",
     "output_type": "stream",
     "text": [
      "['Hola ', ' adión ', ' hasta luego']\n"
     ]
    }
   ],
   "source": [
    "resultado3 = re.split(\"y\",\"Hola y adión y hasta luego\") # te separa el texto por el patrón que le has dado \"y\" y además te lo elimina \n",
    "print(resultado3)"
   ]
  },
  {
   "cell_type": "markdown",
   "metadata": {},
   "source": [
    "## 3. Sintaxis"
   ]
  },
  {
   "cell_type": "markdown",
   "metadata": {},
   "source": [
    "COPIAR DE LOS APUNTES"
   ]
  },
  {
   "cell_type": "code",
   "execution_count": null,
   "metadata": {},
   "outputs": [],
   "source": []
  },
  {
   "cell_type": "markdown",
   "metadata": {},
   "source": [
    "## 4. Ejemplos"
   ]
  },
  {
   "cell_type": "code",
   "execution_count": 5,
   "metadata": {},
   "outputs": [
    {
     "name": "stdout",
     "output_type": "stream",
     "text": [
      "<re.Match object; span=(6, 11), match='amiga'>\n"
     ]
    }
   ],
   "source": [
    "# re.search, ¿para qué sirve? \n",
    "\n",
    "texto = \"hola, amiga, ¿cómo estás? ¿seguimos siendo amigas?\"\n",
    "\n",
    "resultado_texto = re.search(r\"amig[a|o]\", texto)\n",
    "\n",
    "print(resultado_texto)"
   ]
  },
  {
   "cell_type": "code",
   "execution_count": 6,
   "metadata": {},
   "outputs": [
    {
     "name": "stdout",
     "output_type": "stream",
     "text": [
      "<re.Match object; span=(0, 2), match='ho'>\n"
     ]
    }
   ],
   "source": [
    "# re.match()\n",
    "\n",
    "resultado4 = re.match(r\"ho*\", texto)\n",
    "print(resultado4)"
   ]
  },
  {
   "cell_type": "code",
   "execution_count": 9,
   "metadata": {},
   "outputs": [
    {
     "name": "stdout",
     "output_type": "stream",
     "text": [
      "['1234321', '543214']\n"
     ]
    }
   ],
   "source": [
    "# re.findall()\n",
    "\n",
    "texto2 = \"hola mi númeor es 1234321 y el de mi amigo 543214\"\n",
    "\n",
    "resultado5 = re.findall(r\"\\d+\", texto2)\n",
    "print(resultado5)"
   ]
  },
  {
   "cell_type": "code",
   "execution_count": 10,
   "metadata": {},
   "outputs": [
    {
     "name": "stdout",
     "output_type": "stream",
     "text": [
      "['', ' mi númeor ', ' 1234321 y el de mi ', ' 543214']\n"
     ]
    }
   ],
   "source": [
    "resultado6 = re.split(r\"hola|es|amigo\", texto2)\n",
    "print(resultado6)"
   ]
  },
  {
   "cell_type": "markdown",
   "metadata": {},
   "source": [
    "### EJEMPLO PATRON"
   ]
  },
  {
   "cell_type": "code",
   "execution_count": null,
   "metadata": {},
   "outputs": [],
   "source": [
    "patron_nuevo = r\"[\\w\\s]+@(hotmail|gmail)\\.(com|es)\" # 'r' siempre va delante del patrón\n",
    "\n",
    "patron_numero_valido = r\"^[67]\\d{8}$\""
   ]
  },
  {
   "cell_type": "code",
   "execution_count": 14,
   "metadata": {},
   "outputs": [
    {
     "name": "stdout",
     "output_type": "stream",
     "text": [
      "el número 980721354 no es válido\n"
     ]
    }
   ],
   "source": [
    "patron_numero_valido = r\"^[67]\\d{8}$\" #el número tiene que empezar por 6 o 7 y tiene que tener 8 números \n",
    "\n",
    "numero = 980721354\n",
    "\n",
    "resultado_numero = re.match(patron_numero_valido, str(numero)) #siempre se da por sentado que son SRT así que si quieres hacer la busqueda en número lo tienes que convertir a Str\n",
    "\n",
    "if resultado_numero : # si hay un resultado\n",
    "    print(f\"El numero {numero} es válido\")\n",
    "else:\n",
    "    print(f\"el número {numero} no es válido\")"
   ]
  }
 ],
 "metadata": {
  "kernelspec": {
   "display_name": "base",
   "language": "python",
   "name": "python3"
  },
  "language_info": {
   "codemirror_mode": {
    "name": "ipython",
    "version": 3
   },
   "file_extension": ".py",
   "mimetype": "text/x-python",
   "name": "python",
   "nbconvert_exporter": "python",
   "pygments_lexer": "ipython3",
   "version": "3.12.7"
  }
 },
 "nbformat": 4,
 "nbformat_minor": 2
}

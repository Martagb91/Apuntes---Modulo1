{
 "cells": [
  {
   "cell_type": "markdown",
   "metadata": {},
   "source": [
    "REPASO"
   ]
  },
  {
   "cell_type": "code",
   "execution_count": 14,
   "metadata": {},
   "outputs": [],
   "source": [
    "def multiplicador(numero):\n",
    "    for i in range(0,11):\n",
    "        print(f\"{numero} x {i} = {numero*i}\")"
   ]
  },
  {
   "cell_type": "code",
   "execution_count": 15,
   "metadata": {},
   "outputs": [
    {
     "name": "stdout",
     "output_type": "stream",
     "text": [
      "5 x 0 = 0\n",
      "5 x 1 = 5\n",
      "5 x 2 = 10\n",
      "5 x 3 = 15\n",
      "5 x 4 = 20\n",
      "5 x 5 = 25\n",
      "5 x 6 = 30\n",
      "5 x 7 = 35\n",
      "5 x 8 = 40\n",
      "5 x 9 = 45\n",
      "5 x 10 = 50\n"
     ]
    }
   ],
   "source": [
    "multiplicador(5)"
   ]
  },
  {
   "cell_type": "markdown",
   "metadata": {},
   "source": [
    "## crea una funcion que te de la media de tus tres examenes y que si no he hecho el tercer exament me ponga por defecto 5, guarda ese resultado en una variable llamada nota_media"
   ]
  },
  {
   "cell_type": "code",
   "execution_count": 16,
   "metadata": {},
   "outputs": [],
   "source": [
    "def conseguir_nota_media(nota1, nota2, nota3=5):\n",
    "    nota_media = (nota1+nota2+nota3)/3\n",
    "    return nota_media"
   ]
  },
  {
   "cell_type": "code",
   "execution_count": 17,
   "metadata": {},
   "outputs": [],
   "source": [
    "nota = conseguir_nota_media(10,5,2)"
   ]
  },
  {
   "cell_type": "code",
   "execution_count": 18,
   "metadata": {},
   "outputs": [
    {
     "name": "stdout",
     "output_type": "stream",
     "text": [
      "6\n"
     ]
    }
   ],
   "source": [
    "print(round(nota))"
   ]
  },
  {
   "cell_type": "code",
   "execution_count": 19,
   "metadata": {},
   "outputs": [],
   "source": [
    "## si no sabes cuantos alumnos son\n",
    "\n",
    "def conseguir_media(*args):\n",
    "    nota_media2 = sum(args)/len(args) #pones len porque tienes que contar cuantas cosas hay, para saber entre cuanto tienes que dividir\n",
    "    return nota_media2"
   ]
  },
  {
   "cell_type": "code",
   "execution_count": 21,
   "metadata": {},
   "outputs": [
    {
     "name": "stdout",
     "output_type": "stream",
     "text": [
      "5.75\n"
     ]
    }
   ],
   "source": [
    "nota_final = conseguir_media(5,6,10,2)\n",
    "print(nota_final)"
   ]
  },
  {
   "cell_type": "markdown",
   "metadata": {},
   "source": [
    "## Crea una función a la que pasarle una lista y compruebe los números y me añada los que son mayores de 30 a otra lista llamada mayores_30"
   ]
  },
  {
   "cell_type": "code",
   "execution_count": null,
   "metadata": {},
   "outputs": [],
   "source": [
    "lista_numeros = [12,30,45,33,12,9,5,43,23,12,29,49,55,100]\n",
    "\n",
    "\n",
    "def mayores_treinta(lista): # Lista --> para que lo sepas, pero quieres añadir un valor, por eso si escribes los números lo tendrás que hacer entre []\n",
    "    lista_mayores_20 = []  #creas aquí la lista vacia porque le estas diciendo: CUANDO tengas una lista, TENDRAS que añadir con la condición que le des después... \n",
    "    for i in lista:\n",
    "        if i > 30:\n",
    "            lista_mayores_20.append(i) #aquí le dices a la LISTA que vayas a crear le tendrás que añadir los números 'i' a la lista d emayores. De tal manera que te creará una lista cuando lo pases. \n",
    "        else:\n",
    "            continue  #pass no se usa en bucle. Se crea cuando se crea una clase vacia pero no para bucles\n",
    "    return lista_mayores_20 #te devolverá una lista con los números que cumpla la condición que le has dado. \n",
    "\n"
   ]
  },
  {
   "cell_type": "code",
   "execution_count": null,
   "metadata": {},
   "outputs": [
    {
     "data": {
      "text/plain": [
       "[45, 33, 43, 49, 55, 100]"
      ]
     },
     "execution_count": 16,
     "metadata": {},
     "output_type": "execute_result"
    }
   ],
   "source": [
    "edades_aptas = mayores_treinta(lista_numeros)"
   ]
  },
  {
   "cell_type": "markdown",
   "metadata": {},
   "source": [
    "# vamos a crear la clase Adalaber\n",
    "# toda adalaber tiene los siguientes atributos: nombre, apellido, superpoder, frase que más repite y una mascota, aunque por defecto puede tener \"ninguna\".\n",
    "# Toda adalaber puede: saludar a alguien: saludar a alguien, decir un propio nombre y apellido, decir cual es su mascota (si tiene), decir su frase, decir su superpoder y decir la tabla de multiplicar del numero que le pasemos"
   ]
  },
  {
   "cell_type": "code",
   "execution_count": 39,
   "metadata": {},
   "outputs": [],
   "source": [
    "class Adalaber:\n",
    "    def __init__(self, nombre, apellido, superpoder, frase, mascota= \"ninguna\"): #mascota si se la doy la coge, si no se queda como nignuna\n",
    "        self.nombre = nombre\n",
    "        self.apellido = apellido\n",
    "        self.superpoder = superpoder\n",
    "        self.frase = frase\n",
    "        self.mascota = mascota\n",
    "    \n",
    "    def saludo_y_presentarse(self, nombre):\n",
    "        print(f\"Hola, {nombre}. Me llamo {self.nombre} {self.apellido}\") #nombre de otra persona y tu nombre y tu apellido por lo que no te lo tienen que dar\n",
    "\n",
    "    def decir_mascota(self): #no necesitas decirle ninguna mascota, porque vas a hablar de si TU tienes mascota\n",
    "        if self.mascota == \"ninguna\":\n",
    "            print(f\"No tengo mascota\")\n",
    "        else:\n",
    "            print(f\"tengo una mascota y se llama {self.mascota}\")\n",
    "\n",
    "    def decir_superpoder(self):\n",
    "        print(f\"mi super poder es {self.superpoder}\")\n",
    "\n",
    "    def tabla_multiplicar(self,numero):\n",
    "        for i in range(0,11):\n",
    "            print(f\"{numero} x {i} = {numero*i}\")\n"
   ]
  },
  {
   "cell_type": "code",
   "execution_count": 41,
   "metadata": {},
   "outputs": [],
   "source": [
    "#creación de una clase de Adalaber\n",
    "marta_gomez = Adalaber(\"Marta\", \"Gómez\", \"invisibilidad\", \"patatas con huevos fritos\")"
   ]
  },
  {
   "cell_type": "code",
   "execution_count": 29,
   "metadata": {},
   "outputs": [
    {
     "name": "stdout",
     "output_type": "stream",
     "text": [
      "mi super poder es invisibilidad\n"
     ]
    }
   ],
   "source": [
    "marta_gomez.decir_superpoder()"
   ]
  },
  {
   "cell_type": "code",
   "execution_count": 22,
   "metadata": {},
   "outputs": [
    {
     "data": {
      "text/plain": [
       "'patatas con huevos fritos'"
      ]
     },
     "execution_count": 22,
     "metadata": {},
     "output_type": "execute_result"
    }
   ],
   "source": [
    "marta_gomez.frase"
   ]
  },
  {
   "cell_type": "code",
   "execution_count": 30,
   "metadata": {},
   "outputs": [
    {
     "name": "stdout",
     "output_type": "stream",
     "text": [
      "No tengo mascota\n"
     ]
    }
   ],
   "source": [
    "marta_gomez.decir_mascota()"
   ]
  },
  {
   "cell_type": "code",
   "execution_count": 25,
   "metadata": {},
   "outputs": [
    {
     "name": "stdout",
     "output_type": "stream",
     "text": [
      "Hola, Sergio. Me llamo Marta Gómez\n"
     ]
    }
   ],
   "source": [
    "marta_gomez.saludo_y_presentarse(\"Sergio\")"
   ]
  },
  {
   "cell_type": "code",
   "execution_count": 42,
   "metadata": {},
   "outputs": [
    {
     "name": "stdout",
     "output_type": "stream",
     "text": [
      "2 x 0 = 0\n",
      "2 x 1 = 2\n",
      "2 x 2 = 4\n",
      "2 x 3 = 6\n",
      "2 x 4 = 8\n",
      "2 x 5 = 10\n",
      "2 x 6 = 12\n",
      "2 x 7 = 14\n",
      "2 x 8 = 16\n",
      "2 x 9 = 18\n",
      "2 x 10 = 20\n"
     ]
    }
   ],
   "source": [
    "marta_gomez.tabla_multiplicar(2)"
   ]
  }
 ],
 "metadata": {
  "kernelspec": {
   "display_name": "base",
   "language": "python",
   "name": "python3"
  },
  "language_info": {
   "codemirror_mode": {
    "name": "ipython",
    "version": 3
   },
   "file_extension": ".py",
   "mimetype": "text/x-python",
   "name": "python",
   "nbconvert_exporter": "python",
   "pygments_lexer": "ipython3",
   "version": "3.12.7"
  }
 },
 "nbformat": 4,
 "nbformat_minor": 2
}
